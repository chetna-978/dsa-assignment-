{
 "cells": [
  {
   "cell_type": "markdown",
   "id": "411297b8",
   "metadata": {},
   "source": [
    "\n",
    "💡 **Question 1**\n",
    "\n",
    "Convert 1D Array Into 2D Array\n",
    "\n",
    "You are given a **0-indexed** 1-dimensional (1D) integer array original, and two integers, m and n. You are tasked with creating a 2-dimensional (2D) array with  m rows and n columns using **all** the elements from original.\n",
    "\n",
    "The elements from indices 0 to n - 1 (**inclusive**) of original should form the first row of the constructed 2D array, the elements from indices n to 2 * n - 1 (**inclusive**) should form the second row of the constructed 2D array, and so on.\n",
    "\n",
    "Return *an* m x n *2D array constructed according to the above procedure, or an empty 2D array if it is impossible*.\n"
   ]
  },
  {
   "cell_type": "code",
   "execution_count": 4,
   "id": "d5a68bfc",
   "metadata": {},
   "outputs": [
    {
     "name": "stdout",
     "output_type": "stream",
     "text": [
      "[[1, 2], [3, 4]]\n"
     ]
    }
   ],
   "source": [
    "original = [1, 2, 3, 4]\n",
    "m = 2\n",
    "n = 2\n",
    "\n",
    "def convert_to_2d(original, m, n):\n",
    "    if len(original) != m * n:\n",
    "        return []\n",
    "    \n",
    "    result = [[0] * n for _ in range(m)]\n",
    "    for i in range(len(original)):\n",
    "        row = i // n\n",
    "        col = i % n\n",
    "        result[row][col] = original[i]\n",
    "    \n",
    "    return result\n",
    "\n",
    "print(convert_to_2d(original, m, n))\n"
   ]
  },
  {
   "cell_type": "markdown",
   "id": "bd3fe81f",
   "metadata": {},
   "source": [
    "Check if the length of the original array is equal to m * n. If it is not, return an empty 2D array, as it is impossible to create the desired 2D array.\n",
    "\n",
    "Create an empty 2D array with m rows and n columns.\n",
    "\n",
    "Iterate over the original array and distribute the elements into the 2D array based on the given conditions. Use integer division (//) and modulo (%) operations to determine the row and column indices.\n",
    "\n",
    "Return the constructed 2D array."
   ]
  },
  {
   "cell_type": "markdown",
   "id": "3fa5509c",
   "metadata": {},
   "source": [
    "O(m * n)time complexity,space complexity"
   ]
  },
  {
   "cell_type": "markdown",
   "id": "36ded7a8",
   "metadata": {},
   "source": [
    "\n",
    "💡 **Question 2**\n",
    "\n",
    "You have n coins and you want to build a staircase with these coins. The staircase consists of k rows where the ith row has exactly i coins. The last row of the staircase **may be** incomplete.\n",
    "\n",
    "Given the integer n, return *the number of **complete rows** of the staircase you will build*.\n"
   ]
  },
  {
   "cell_type": "code",
   "execution_count": 4,
   "id": "26e9e2e7",
   "metadata": {},
   "outputs": [],
   "source": [
    "def arrangeCoins(n):\n",
    "    left = 1\n",
    "    right = n\n",
    "\n",
    "    while left <= right:\n",
    "        mid = left + (right - left) // 2\n",
    "        sum_mid = (mid * (mid + 1)) // 2\n",
    "\n",
    "        if sum_mid <= n:\n",
    "            left = mid + 1\n",
    "        else:\n",
    "            right = mid - 1\n",
    "\n",
    "    return right\n"
   ]
  },
  {
   "cell_type": "code",
   "execution_count": 5,
   "id": "b2f1bece",
   "metadata": {},
   "outputs": [
    {
     "name": "stdout",
     "output_type": "stream",
     "text": [
      "2\n"
     ]
    }
   ],
   "source": [
    "n = 5\n",
    "complete_rows = arrangeCoins(n)\n",
    "print(complete_rows)\n"
   ]
  },
  {
   "cell_type": "markdown",
   "id": "10476d22",
   "metadata": {},
   "source": [
    "Initialize two pointers, left and right, to 1 and n, respectively. These pointers define the range of possible values for k.\n",
    "\n",
    "While left is less than or equal to right, do the following:\n",
    "\n",
    "Calculate the midpoint as mid = left + (right - left) // 2.\n",
    "\n",
    "Calculate the sum of the arithmetic series from 1 to mid as sum_mid = (mid * (mid + 1)) // 2.\n",
    "\n",
    "If sum_mid is less than or equal to n, update left = mid + 1 to search for a larger value of k.\n",
    "\n",
    "Otherwise, update right = mid - 1 to search for a smaller value of k.\n",
    "\n",
    "After the binary search, right will hold the largest value of k such that the sum of the arithmetic series from 1 to k is less than or equal to n.\n",
    "\n",
    "Return right as the number of complete rows in the staircase.\n"
   ]
  },
  {
   "cell_type": "markdown",
   "id": "d46dbeb9",
   "metadata": {},
   "source": [
    "O(log n) time complexity,\n",
    "O(1)space complexity"
   ]
  },
  {
   "cell_type": "markdown",
   "id": "87256b9c",
   "metadata": {},
   "source": [
    "\n",
    "💡 **Question 3**\n",
    "\n",
    "Given an integer array nums sorted in **non-decreasing** order, return *an array of **the squares of each number** sorted in non-decreasing order*.\n",
    "\n",
    "**Example 1:**\n",
    "\n",
    "**Input:** nums = [-4,-1,0,3,10]\n",
    "\n",
    "**Output:** [0,1,9,16,100]\n",
    "\n",
    "**Explanation:** After squaring, the array becomes [16,1,0,9,100].\n",
    "\n",
    "After sorting, it becomes [0,1,9,16,100]."
   ]
  },
  {
   "cell_type": "code",
   "execution_count": 6,
   "id": "73b75456",
   "metadata": {},
   "outputs": [],
   "source": [
    "def sortedSquares(nums):\n",
    "    left = 0\n",
    "    right = len(nums) - 1\n",
    "    result = []\n",
    "\n",
    "    while left <= right:\n",
    "        if abs(nums[left]) >= abs(nums[right]):\n",
    "            result.append(nums[left] ** 2)\n",
    "            left += 1\n",
    "        else:\n",
    "            result.append(nums[right] ** 2)\n",
    "            right -= 1\n",
    "\n",
    "    return result[::-1]\n",
    "\n"
   ]
  },
  {
   "cell_type": "code",
   "execution_count": 7,
   "id": "e80f3881",
   "metadata": {},
   "outputs": [
    {
     "name": "stdout",
     "output_type": "stream",
     "text": [
      "[0, 1, 9, 16, 100]\n"
     ]
    }
   ],
   "source": [
    "nums = [-4, -1, 0, 3, 10]\n",
    "squared_nums = sortedSquares(nums)\n",
    "print(squared_nums)"
   ]
  },
  {
   "cell_type": "markdown",
   "id": "009efab6",
   "metadata": {},
   "source": [
    "Initialize two pointers, left and right, to the start and end of the nums array, respectively.\n",
    "\n",
    "Create an empty result array to store the squares in non-decreasing order.\n",
    "\n",
    "While left is less than or equal to right, do the following:\n",
    "\n",
    "Compare the absolute values of nums[left] and nums[right].\n",
    "\n",
    "If the absolute value of nums[left] is greater than or equal to the absolute value of nums[right], square nums[left] and append it to the result array. Then, move left one step to the right.\n",
    "\n",
    "If the absolute value of nums[left] is less than the absolute value of nums[right], square nums[right] and append it to the result array. Then, move right one step to the left.\n",
    "\n",
    "Reverse the result array to obtain the squares in non-decreasing order.\n",
    "\n",
    "Return the result array."
   ]
  },
  {
   "cell_type": "markdown",
   "id": "66d8e18f",
   "metadata": {},
   "source": [
    "O(n)time complexity,space complexity"
   ]
  },
  {
   "cell_type": "markdown",
   "id": "95eb8e8c",
   "metadata": {},
   "source": [
    "\n",
    "💡 **Question 4**\n",
    "\n",
    "Given two **0-indexed** integer arrays nums1 and nums2, return *a list* answer *of size* 2 *where:*\n",
    "\n",
    "- answer[0] *is a list of all **distinct** integers in* nums1 *which are **not** present in* nums2*.*\n",
    "- answer[1] *is a list of all **distinct** integers in* nums2 *which are **not** present in* nums1.\n",
    "\n",
    "**Note** that the integers in the lists may be returned in **any** order.\n",
    "\n",
    "**Example 1:**\n",
    "\n",
    "**Input:** nums1 = [1,2,3], nums2 = [2,4,6]\n",
    "\n",
    "**Output:** [[1,3],[4,6]]\n",
    "\n",
    "**Explanation:**\n",
    "\n",
    "For nums1, nums1[1] = 2 is present at index 0 of nums2, whereas nums1[0] = 1 and nums1[2] = 3 are not present in nums2. Therefore, answer[0] = [1,3].\n",
    "\n",
    "For nums2, nums2[0] = 2 is present at index 1 of nums1, whereas nums2[1] = 4 and nums2[2] = 6 are not present in nums2. Therefore, answer[1] = [4,6].\n"
   ]
  },
  {
   "cell_type": "code",
   "execution_count": 8,
   "id": "8187b662",
   "metadata": {},
   "outputs": [],
   "source": [
    "def find_nums(nums1, nums2):\n",
    "    set1 = set(nums1)\n",
    "    set2 = set(nums2)\n",
    "    \n",
    "    result1 = list(set1 - set2)\n",
    "    result2 = list(set2 - set1)\n",
    "    \n",
    "    return [result1, result2]\n",
    "\n"
   ]
  },
  {
   "cell_type": "code",
   "execution_count": 9,
   "id": "2a27f4aa",
   "metadata": {},
   "outputs": [
    {
     "name": "stdout",
     "output_type": "stream",
     "text": [
      "[[1, 3], [4, 6]]\n"
     ]
    }
   ],
   "source": [
    "nums1 = [1, 2, 3]\n",
    "nums2 = [2, 4, 6]\n",
    "\n",
    "answer = find_nums(nums1, nums2)\n",
    "print(answer)\n"
   ]
  },
  {
   "cell_type": "markdown",
   "id": "b97c83ce",
   "metadata": {},
   "source": [
    "O(n + m)time complexity, O(n + m)space complexity"
   ]
  },
  {
   "cell_type": "markdown",
   "id": "6ff7a1b0",
   "metadata": {},
   "source": [
    "Create two sets, set1 and set2, to store the distinct integers from nums1 and nums2, respectively.\n",
    "\n",
    "Iterate through nums1 and add each element to set1.\n",
    "\n",
    "Iterate through nums2 and add each element to set2.\n",
    "\n",
    "Find the set difference between set1 and set2 to get the distinct integers in nums1 that are not present in nums2.\n",
    "\n",
    "Find the set difference between set2 and set1 to get the distinct integers in nums2 that are not present in nums1.\n",
    "\n",
    "Return a list, answer, containing the two sets obtained in steps 4 and 5, respectively."
   ]
  },
  {
   "cell_type": "markdown",
   "id": "0fad8479",
   "metadata": {},
   "source": [
    "\n",
    "💡 **Question 5**\n",
    "\n",
    "Given two integer arrays arr1 and arr2, and the integer d, *return the distance value between the two arrays*.\n",
    "\n",
    "The distance value is defined as the number of elements arr1[i] such that there is not any element arr2[j] where |arr1[i]-arr2[j]| <= d.\n",
    "\n",
    "**Example 1:**\n",
    "\n",
    "**Input:** arr1 = [4,5,8], arr2 = [10,9,1,8], d = 2\n",
    "\n",
    "**Output:** 2\n",
    "\n",
    "**Explanation:**\n",
    "\n",
    "For arr1[0]=4 we have:\n",
    "\n",
    "|4-10|=6 > d=2\n",
    "\n",
    "|4-9|=5 > d=2\n",
    "\n",
    "|4-1|=3 > d=2\n",
    "\n",
    "|4-8|=4 > d=2\n",
    "\n",
    "For arr1[1]=5 we have:\n",
    "\n",
    "|5-10|=5 > d=2\n",
    "\n",
    "|5-9|=4 > d=2\n",
    "\n",
    "|5-1|=4 > d=2\n",
    "\n",
    "|5-8|=3 > d=2\n",
    "\n",
    "For arr1[2]=8 we have:\n",
    "\n",
    "**|8-10|=2 <= d=2**\n",
    "\n",
    "**|8-9|=1 <= d=2**\n",
    "\n",
    "|8-1|=7 > d=2\n",
    "\n",
    "**|8-8|=0 <= d=2**\n",
    "\n"
   ]
  },
  {
   "cell_type": "code",
   "execution_count": 8,
   "id": "ffc2a685",
   "metadata": {},
   "outputs": [],
   "source": [
    "def DistanceValue(arr1, arr2, d):\n",
    "    distance_value = 0\n",
    "    \n",
    "    for num1 in arr1:\n",
    "        is_distance_valid = True\n",
    "        \n",
    "        for num2 in arr2:\n",
    "            if abs(num1 - num2) <= d:\n",
    "                is_distance_valid = False\n",
    "                break\n",
    "        \n",
    "        if is_distance_valid:\n",
    "            distance_value += 1\n",
    "    \n",
    "    return distance_value"
   ]
  },
  {
   "cell_type": "code",
   "execution_count": 9,
   "id": "cfa22795",
   "metadata": {},
   "outputs": [
    {
     "name": "stdout",
     "output_type": "stream",
     "text": [
      "2\n"
     ]
    }
   ],
   "source": [
    "arr1 = [4, 5, 8]\n",
    "arr2 = [10, 9, 1, 8]\n",
    "d = 2\n",
    "print(DistanceValue(arr1, arr2, d))\n"
   ]
  },
  {
   "cell_type": "markdown",
   "id": "d4dc8661",
   "metadata": {},
   "source": [
    "O(n1 * n2) time complexity,\n",
    "O(1)space complexity"
   ]
  },
  {
   "cell_type": "markdown",
   "id": "1fa62100",
   "metadata": {},
   "source": [
    "\n",
    "💡 **Question 6**\n",
    "\n",
    "Given an integer array nums of length n where all the integers of nums are in the range [1, n] and each integer appears **once** or **twice**, return *an array of all the integers that appears **twice***.\n",
    "\n",
    "You must write an algorithm that runs in O(n) time and uses only constant extra space.\n",
    "\n",
    "**Example 1:**\n",
    "\n",
    "**Input:** nums = [4,3,2,7,8,2,3,1]\n",
    "\n",
    "**Output:**\n",
    "\n",
    "[2,3]\n",
    "\n"
   ]
  },
  {
   "cell_type": "code",
   "execution_count": 12,
   "id": "37f12aca",
   "metadata": {},
   "outputs": [],
   "source": [
    "def findDuplicates(nums):\n",
    "    result = []\n",
    "    \n",
    "    for num in nums:\n",
    "        index = abs(num) - 1\n",
    "        \n",
    "        if nums[index] < 0:\n",
    "            result.append(abs(num))\n",
    "        else:\n",
    "            nums[index] = -nums[index]\n",
    "    \n",
    "    return result"
   ]
  },
  {
   "cell_type": "code",
   "execution_count": 13,
   "id": "e8f81e4c",
   "metadata": {},
   "outputs": [
    {
     "name": "stdout",
     "output_type": "stream",
     "text": [
      "[2, 3]\n"
     ]
    }
   ],
   "source": [
    "nums = [4, 3, 2, 7, 8, 2, 3, 1]\n",
    "print(findDuplicates(nums))\n"
   ]
  },
  {
   "cell_type": "markdown",
   "id": "de1d19f9",
   "metadata": {},
   "source": [
    "<aside>\n",
    "💡 **Question 7**\n",
    "\n",
    "Suppose an array of length n sorted in ascending order is **rotated** between 1 and n times. For example, the array nums = [0,1,2,4,5,6,7] might become:\n",
    "\n",
    "- [4,5,6,7,0,1,2] if it was rotated 4 times.\n",
    "- [0,1,2,4,5,6,7] if it was rotated 7 times.\n",
    "\n",
    "Notice that **rotating** an array [a[0], a[1], a[2], ..., a[n-1]] 1 time results in the array [a[n-1], a[0], a[1], a[2], ..., a[n-2]].\n",
    "\n",
    "Given the sorted rotated array nums of **unique** elements, return *the minimum element of this array*.\n",
    "\n",
    "You must write an algorithm that runs in O(log n) time.\n",
    "\n",
    "**Example 1:**\n",
    "\n",
    "**Input:** nums = [3,4,5,1,2]\n",
    "\n",
    "**Output:** 1\n",
    "\n",
    "**Explanation:**\n",
    "\n",
    "The original array was [1,2,3,4,5] rotated 3 times.\n",
    "\n",
    "</aside>"
   ]
  },
  {
   "cell_type": "code",
   "execution_count": 14,
   "id": "623ebceb",
   "metadata": {},
   "outputs": [],
   "source": [
    "def findMin(nums):\n",
    "    left = 0\n",
    "    right = len(nums) - 1\n",
    "    \n",
    "    while left < right:\n",
    "        mid = left + (right - left) // 2\n",
    "        \n",
    "        # If the middle element is greater than the last element,\n",
    "        # the minimum element is in the right half.\n",
    "        if nums[mid] > nums[right]:\n",
    "            left = mid + 1\n",
    "        # If the middle element is less than the last element,\n",
    "        # the minimum element is in the left half.\n",
    "        else:\n",
    "            right = mid\n",
    "    \n",
    "    # The value at 'left' will be the minimum element.\n",
    "    return nums[left]\n"
   ]
  },
  {
   "cell_type": "code",
   "execution_count": 15,
   "id": "0237c6f0",
   "metadata": {},
   "outputs": [
    {
     "name": "stdout",
     "output_type": "stream",
     "text": [
      "1\n"
     ]
    }
   ],
   "source": [
    "nums = [3,4,5,1,2]\n",
    "print(findMin(nums))"
   ]
  },
  {
   "cell_type": "markdown",
   "id": "f6df7c70",
   "metadata": {},
   "source": [
    "\n",
    "💡 **Question 8**\n",
    "\n",
    "An integer array original is transformed into a **doubled** array changed by appending **twice the value** of every element in original, and then randomly **shuffling** the resulting array.\n",
    "\n",
    "Given an array changed, return original *if* changed *is a **doubled** array. If* changed *is not a **doubled** array, return an empty array. The elements in* original *may be returned in **any** order*.\n",
    "\n",
    "**Example 1:**\n",
    "\n",
    "**Input:** changed = [1,3,4,2,6,8]\n",
    "\n",
    "**Output:** [1,3,4]\n",
    "\n",
    "**Explanation:** One possible original array could be [1,3,4]:\n",
    "\n",
    "- Twice the value of 1 is 1 * 2 = 2.\n",
    "- Twice the value of 3 is 3 * 2 = 6.\n",
    "- Twice the value of 4 is 4 * 2 = 8.\n",
    "\n",
    "Other original arrays could be [4,3,1] or [3,1,4]."
   ]
  },
  {
   "cell_type": "code",
   "execution_count": 17,
   "id": "3e36e629",
   "metadata": {},
   "outputs": [],
   "source": [
    "from collections import Counter\n",
    "\n",
    "def findOriginalArray(changed):\n",
    "    if len(changed) % 2 != 0:\n",
    "        return []  # If the length of the changed array is odd, it cannot be a doubled array\n",
    "    \n",
    "    freq = Counter(changed)\n",
    "    original = []\n",
    "    \n",
    "    for num in changed:\n",
    "        if freq[num] == 0:\n",
    "            continue  # Skip if the element does not exist in the original array\n",
    "        \n",
    "        if freq[num * 2] == 0:\n",
    "            return []  # If the element's double does not exist or has a frequency of 0, return an empty array\n",
    "        \n",
    "        freq[num] -= 1  # Decrement the frequency of num\n",
    "        freq[num * 2] -= 1  # Decrement the frequency of num * 2\n",
    "        original.append(num)  # Append num to the original array\n",
    "    \n",
    "    return original\n"
   ]
  },
  {
   "cell_type": "code",
   "execution_count": 18,
   "id": "bdc6370e",
   "metadata": {},
   "outputs": [
    {
     "name": "stdout",
     "output_type": "stream",
     "text": [
      "[1, 3, 4]\n"
     ]
    }
   ],
   "source": [
    "changed = [1,3,4,2,6,8]\n",
    "print(findOriginalArray(changed))"
   ]
  },
  {
   "cell_type": "markdown",
   "id": "17417250",
   "metadata": {},
   "source": [
    "O(n)  time complexity, space complexity"
   ]
  }
 ],
 "metadata": {
  "kernelspec": {
   "display_name": "Python 3 (ipykernel)",
   "language": "python",
   "name": "python3"
  },
  "language_info": {
   "codemirror_mode": {
    "name": "ipython",
    "version": 3
   },
   "file_extension": ".py",
   "mimetype": "text/x-python",
   "name": "python",
   "nbconvert_exporter": "python",
   "pygments_lexer": "ipython3",
   "version": "3.9.12"
  }
 },
 "nbformat": 4,
 "nbformat_minor": 5
}
