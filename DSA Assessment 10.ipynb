{
 "cells": [
  {
   "cell_type": "markdown",
   "id": "c594db9f",
   "metadata": {},
   "source": [
    "\n",
    "💡 **Question 1**\n",
    "\n",
    "Given an integer `n`, return *`true` if it is a power of three. Otherwise, return `false`*.\n",
    "\n",
    "An integer `n` is a power of three, if there exists an integer `x` such that `n == 3x`.\n",
    "\n",
    "**Example 1:**\n",
    "\n",
    "```\n",
    "Input: n = 27\n",
    "Output: true\n",
    "Explanation: 27 = 33\n",
    "```\n",
    "\n",
    "**Example 2:**\n",
    "\n",
    "```\n",
    "Input: n = 0\n",
    "Output: false\n",
    "Explanation: There is no x where 3x = 0.\n",
    "\n",
    "```\n",
    "\n",
    "**Example 3:**\n",
    "\n",
    "```\n",
    "Input: n = -1\n",
    "Output: false\n",
    "Explanation: There is no x where 3x = (-1).\n",
    "```"
   ]
  },
  {
   "cell_type": "code",
   "execution_count": 1,
   "id": "a98d3254",
   "metadata": {},
   "outputs": [],
   "source": [
    "def isPowerOfThree(n):\n",
    "    if n <= 0:\n",
    "        return False\n",
    "    if n == 1:\n",
    "        return True\n",
    "    if n % 3 == 0:\n",
    "        return isPowerOfThree(n // 3)\n",
    "    return False\n"
   ]
  },
  {
   "cell_type": "code",
   "execution_count": 2,
   "id": "32ffc5bb",
   "metadata": {},
   "outputs": [
    {
     "name": "stdout",
     "output_type": "stream",
     "text": [
      "True\n",
      "False\n",
      "False\n"
     ]
    }
   ],
   "source": [
    "print(isPowerOfThree(27))  \n",
    "print(isPowerOfThree(0))   \n",
    "print(isPowerOfThree(-1)) \n"
   ]
  },
  {
   "cell_type": "markdown",
   "id": "8d9edacd",
   "metadata": {},
   "source": [
    "\n",
    "💡 **Question 2**\n",
    "\n",
    "You have a list `arr` of all integers in the range `[1, n]` sorted in a strictly increasing order. Apply the following algorithm on `arr`:\n",
    "\n",
    "- Starting from left to right, remove the first number and every other number afterward until you reach the end of the list.\n",
    "- Repeat the previous step again, but this time from right to left, remove the rightmost number and every other number from the remaining numbers.\n",
    "- Keep repeating the steps again, alternating left to right and right to left, until a single number remains.\n",
    "\n",
    "Given the integer `n`, return *the last number that remains in* `arr`.\n",
    "\n",
    "**Example 1:**\n",
    "\n",
    "```\n",
    "Input: n = 9\n",
    "Output: 6\n",
    "Explanation:\n",
    "arr = [1, 2,3, 4,5, 6,7, 8,9]\n",
    "arr = [2,4, 6,8]\n",
    "arr = [2, 6]\n",
    "arr = [6]\n",
    "\n",
    "```\n"
   ]
  },
  {
   "cell_type": "code",
   "execution_count": 9,
   "id": "cb6925ab",
   "metadata": {},
   "outputs": [],
   "source": [
    "def lastRemaining(n):\n",
    "    if n == 1:\n",
    "        return 1\n",
    "    return 2 * (n // 2 + 1 - lastRemaining(n // 2))\n"
   ]
  },
  {
   "cell_type": "code",
   "execution_count": 10,
   "id": "8803adbd",
   "metadata": {},
   "outputs": [
    {
     "name": "stdout",
     "output_type": "stream",
     "text": [
      "6\n"
     ]
    }
   ],
   "source": [
    "print(lastRemaining(9))"
   ]
  },
  {
   "cell_type": "markdown",
   "id": "b35defde",
   "metadata": {},
   "source": [
    "\n",
    "💡 **Question 3**\n",
    "\n",
    "****Given a set represented as a string, write a recursive code to print all subsets of it. The subsets can be printed in any order.\n",
    "\n",
    "**Example 1:**\n",
    "\n",
    "Input :  set = “abc”\n",
    "\n",
    "Output : { “”, “a”, “b”, “c”, “ab”, “ac”, “bc”, “abc”}\n",
    "\n",
    "**Example 2:**\n",
    "\n",
    "Input : set = “abcd”\n",
    "\n",
    "Output : { “”, “a” ,”ab” ,”abc” ,”abcd”, “abd” ,”ac” ,”acd”, “ad” ,”b”, “bc” ,”bcd” ,”bd” ,”c” ,”cd” ,”d” }\n"
   ]
  },
  {
   "cell_type": "code",
   "execution_count": 11,
   "id": "8274166c",
   "metadata": {},
   "outputs": [],
   "source": [
    "def getSubsets(s):\n",
    "    if len(s) == 0:\n",
    "        return set([\"\"])\n",
    "\n",
    "    first_char = s[0]\n",
    "    subsets = getSubsets(s[1:])\n",
    "    all_subsets = set()\n",
    "\n",
    "    for subset in subsets:\n",
    "        all_subsets.add(subset)\n",
    "        all_subsets.add(first_char + subset)\n",
    "\n",
    "    return all_subsets"
   ]
  },
  {
   "cell_type": "code",
   "execution_count": 12,
   "id": "51c2d147",
   "metadata": {},
   "outputs": [
    {
     "name": "stdout",
     "output_type": "stream",
     "text": [
      "{'', 'abc', 'bc', 'a', 'ab', 'c', 'b', 'ac'}\n",
      "{'', 'd', 'abc', 'ac', 'bd', 'bc', 'abcd', 'a', 'cd', 'ab', 'c', 'b', 'acd', 'ad', 'abd', 'bcd'}\n"
     ]
    }
   ],
   "source": [
    "print(getSubsets(\"abc\"))   \n",
    "print(getSubsets(\"abcd\")) "
   ]
  },
  {
   "cell_type": "markdown",
   "id": "fff1cc87",
   "metadata": {},
   "source": [
    "\n",
    "💡 **Question 4**\n",
    "\n",
    "Given a string calculate length of the string using recursion.\n",
    "Input : str = \"abcd\"\n",
    "Output :4\n",
    "\n",
    "Input : str = \"GEEKSFORGEEKS\"\n",
    "Output :13"
   ]
  },
  {
   "cell_type": "code",
   "execution_count": 13,
   "id": "63331491",
   "metadata": {},
   "outputs": [],
   "source": [
    "def calculateLength(s):\n",
    "    if s == \"\":\n",
    "        return 0\n",
    "    return 1 + calculateLength(s[1:])\n"
   ]
  },
  {
   "cell_type": "code",
   "execution_count": 14,
   "id": "fd6c9e9a",
   "metadata": {},
   "outputs": [
    {
     "name": "stdout",
     "output_type": "stream",
     "text": [
      "4\n",
      "13\n"
     ]
    }
   ],
   "source": [
    "print(calculateLength(\"abcd\"))           \n",
    "print(calculateLength(\"GEEKSFORGEEKS\"))"
   ]
  },
  {
   "cell_type": "markdown",
   "id": "c6d23e96",
   "metadata": {},
   "source": [
    "\n",
    "💡 **Question 5**\n",
    "\n",
    "We are given a string S, we need to find count of all contiguous substrings starting and ending with same character.\n",
    "\n",
    "**Examples :**\n",
    "\n",
    "```\n",
    "Input  : S = \"abcab\"\n",
    "Output : 7\n",
    "There are 15 substrings of \"abcab\"\n",
    "a, ab, abc, abca, abcab, b, bc, bca\n",
    "bcab, c, ca, cab, a, ab, b\n",
    "Out of the above substrings, there\n",
    "are 7 substrings : a, abca, b, bcab,\n",
    "c, a and b.\n",
    "\n",
    "Input  : S = \"aba\"\n",
    "Output : 4\n",
    "The substrings are a, b, a and aba\n",
    "```\n"
   ]
  },
  {
   "cell_type": "code",
   "execution_count": 15,
   "id": "b370a612",
   "metadata": {},
   "outputs": [],
   "source": [
    "def countSubstrings(S):\n",
    "    if len(S) <= 1:\n",
    "        return 0\n",
    "\n",
    "    count = 0\n",
    "    count += countSubstrings(S[1:])\n",
    "\n",
    "    for i in range(len(S)):\n",
    "        if S[i] == S[0]:\n",
    "            count += 1\n",
    "\n",
    "    return count\n"
   ]
  },
  {
   "cell_type": "code",
   "execution_count": 16,
   "id": "71dfa6f8",
   "metadata": {},
   "outputs": [
    {
     "name": "stdout",
     "output_type": "stream",
     "text": [
      "6\n",
      "3\n"
     ]
    }
   ],
   "source": [
    "print(countSubstrings(\"abcab\"))  \n",
    "print(countSubstrings(\"aba\")) "
   ]
  },
  {
   "cell_type": "markdown",
   "id": "748f70ac",
   "metadata": {},
   "source": [
    "\n",
    "💡 **Question 6**\n",
    "\n",
    "The [tower of Hanoi](https://en.wikipedia.org/wiki/Tower_of_Hanoi) is a famous puzzle where we have three rods and **N** disks. The objective of the puzzle is to move the entire stack to another rod. You are given the number of discs **N**. Initially, these discs are in the rod 1. You need to print all the steps of discs movement so that all the discs reach the 3rd rod. Also, you need to find the total moves.**Note:** The discs are arranged such that the **top disc is numbered 1** and the **bottom-most disc is numbered N**. Also, all the discs have **different sizes** and a bigger disc **cannot** be put on the top of a smaller disc. Refer the provided link to get a better clarity about the puzzle.\n",
    "\n",
    "**Example 1:**\n",
    "\n",
    "```\n",
    "Input:\n",
    "N = 2\n",
    "Output:\n",
    "move disk 1 from rod 1 to rod 2\n",
    "move disk 2 from rod 1 to rod 3\n",
    "move disk 1 from rod 2 to rod 3\n",
    "3\n",
    "Explanation:For N=2 , steps will be\n",
    "as follows in the example and total\n",
    "3 steps will be taken.\n",
    "```\n"
   ]
  },
  {
   "cell_type": "code",
   "execution_count": 17,
   "id": "d0be382a",
   "metadata": {},
   "outputs": [],
   "source": [
    "def towerOfHanoi(n, source, auxiliary, destination):\n",
    "    if n == 1:\n",
    "        print(\"move disk 1 from rod\", source, \"to rod\", destination)\n",
    "        return 1\n",
    "\n",
    "    moves = 0\n",
    "    moves += towerOfHanoi(n-1, source, destination, auxiliary)\n",
    "    print(\"move disk\", n, \"from rod\", source, \"to rod\", destination)\n",
    "    moves += 1\n",
    "    moves += towerOfHanoi(n-1, auxiliary, source, destination)\n",
    "\n",
    "    return moves\n"
   ]
  },
  {
   "cell_type": "code",
   "execution_count": 18,
   "id": "2dfa0039",
   "metadata": {},
   "outputs": [
    {
     "name": "stdout",
     "output_type": "stream",
     "text": [
      "move disk 1 from rod 1 to rod 2\n",
      "move disk 2 from rod 1 to rod 3\n",
      "move disk 1 from rod 2 to rod 3\n",
      "Total moves: 3\n"
     ]
    }
   ],
   "source": [
    "N = 2\n",
    "total_moves = towerOfHanoi(N, 1, 2, 3)\n",
    "print(\"Total moves:\", total_moves)\n"
   ]
  },
  {
   "cell_type": "markdown",
   "id": "575bb72c",
   "metadata": {},
   "source": [
    "\n",
    "💡 **Question 7**\n",
    "\n",
    "Given a string **str**, the task is to print all the permutations of **str**. A **permutation** is an arrangement of all or part of a set of objects, with regard to the order of the arrangement. For instance, the words ‘bat’ and ‘tab’ represents two distinct permutation (or arrangements) of a similar three letter word.\n",
    "\n",
    "**Examples:**\n",
    "\n",
    "> Input: str = “cd”\n",
    "> \n",
    "> \n",
    "> **Output:** cd dc\n",
    "> \n",
    "> **Input:** str = “abb”\n",
    "> \n",
    "> **Output:** abb abb bab bba bab bba\n"
   ]
  },
  {
   "cell_type": "code",
   "execution_count": 19,
   "id": "3be331bc",
   "metadata": {},
   "outputs": [],
   "source": [
    "def permute(s, current):\n",
    "    if len(current) == len(s):\n",
    "        print(current)\n",
    "        return\n",
    "\n",
    "    for c in s:\n",
    "        if c not in current:\n",
    "            current += c\n",
    "            permute(s, current)\n",
    "            current = current[:-1]  # Backtracking\n"
   ]
  },
  {
   "cell_type": "code",
   "execution_count": 20,
   "id": "c275bfde",
   "metadata": {},
   "outputs": [
    {
     "name": "stdout",
     "output_type": "stream",
     "text": [
      "cd\n",
      "dc\n"
     ]
    }
   ],
   "source": [
    "permute(\"cd\", \"\")  \n",
    "permute(\"abb\", \"\")"
   ]
  },
  {
   "cell_type": "markdown",
   "id": "aec33816",
   "metadata": {},
   "source": [
    "\n",
    "💡 **Question 8**\n",
    "\n",
    "Given a string, count total number of consonants in it. A consonant is an English alphabet character that is not vowel (a, e, i, o and u). Examples of constants are b, c, d, f, and g.\n",
    "Input : abc de\n",
    "Output : 3\n",
    "There are three consonants b, c and d.\n",
    "\n",
    "Input : geeksforgeeks portal\n",
    "Output : 12"
   ]
  },
  {
   "cell_type": "code",
   "execution_count": 21,
   "id": "55cc4ee2",
   "metadata": {},
   "outputs": [],
   "source": [
    "def countConsonants(s, index):\n",
    "    if index == len(s):\n",
    "        return 0\n",
    "\n",
    "    count = 0\n",
    "    c = s[index]\n",
    "\n",
    "    if c.isalpha() and c.lower() not in ['a', 'e', 'i', 'o', 'u']:\n",
    "        count = 1\n",
    "\n",
    "    return count + countConsonants(s, index + 1)\n"
   ]
  },
  {
   "cell_type": "code",
   "execution_count": 22,
   "id": "108edf5f",
   "metadata": {},
   "outputs": [
    {
     "name": "stdout",
     "output_type": "stream",
     "text": [
      "3\n",
      "12\n"
     ]
    }
   ],
   "source": [
    "print(countConsonants(\"abc de\", 0))             \n",
    "print(countConsonants(\"geeksforgeeks portal\", 0)) "
   ]
  },
  {
   "cell_type": "code",
   "execution_count": null,
   "id": "411de40b",
   "metadata": {},
   "outputs": [],
   "source": []
  }
 ],
 "metadata": {
  "kernelspec": {
   "display_name": "Python 3 (ipykernel)",
   "language": "python",
   "name": "python3"
  },
  "language_info": {
   "codemirror_mode": {
    "name": "ipython",
    "version": 3
   },
   "file_extension": ".py",
   "mimetype": "text/x-python",
   "name": "python",
   "nbconvert_exporter": "python",
   "pygments_lexer": "ipython3",
   "version": "3.9.12"
  }
 },
 "nbformat": 4,
 "nbformat_minor": 5
}
