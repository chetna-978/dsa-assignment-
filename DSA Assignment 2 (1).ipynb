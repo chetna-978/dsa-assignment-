{
 "cells": [
  {
   "cell_type": "markdown",
   "id": "ac9929a4",
   "metadata": {},
   "source": [
    "## DSA Assignment 2"
   ]
  },
  {
   "cell_type": "raw",
   "id": "6fa5d214",
   "metadata": {},
   "source": [
    "Question 1\n",
    "Given an integer array nums of 2n integers, group these integers into n pairs (a1, b1), (a2, b2),..., (an, bn) such that the sum of min(ai, bi) for all i is maximized. Return the maximized sum.\n",
    "\n",
    "**Example 1:**\n",
    "Input: nums = [1,4,3,2]\n",
    "Output: 4\n",
    "\n",
    "**Explanation:** All possible pairings (ignoring the ordering of elements) are:\n",
    "\n",
    "1. (1, 4), (2, 3) -> min(1, 4) + min(2, 3) = 1 + 2 = 3\n",
    "2. (1, 3), (2, 4) -> min(1, 3) + min(2, 4) = 1 + 2 = 3\n",
    "3. (1, 2), (3, 4) -> min(1, 2) + min(3, 4) = 1 + 3 = 4\n",
    "So the maximum possible sum is 4"
   ]
  },
  {
   "cell_type": "code",
   "execution_count": 23,
   "id": "70241387",
   "metadata": {},
   "outputs": [],
   "source": [
    "def PairSum(nums):\n",
    "    nums.sort()\n",
    "    max_sum = 0\n",
    "    for i in range(0, len(nums), 2):\n",
    "        max_sum += nums[i]\n",
    "    return max_sum"
   ]
  },
  {
   "cell_type": "code",
   "execution_count": 24,
   "id": "ef3a6c70",
   "metadata": {},
   "outputs": [
    {
     "name": "stdout",
     "output_type": "stream",
     "text": [
      "4\n"
     ]
    }
   ],
   "source": [
    "nums = [1, 4, 3, 2]\n",
    "result = PairSum(nums)\n",
    "print(result)  \n"
   ]
  },
  {
   "cell_type": "raw",
   "id": "6b1b8078",
   "metadata": {},
   "source": [
    "O(n log n)time complexity,\n",
    "O(1)space complexity"
   ]
  },
  {
   "cell_type": "raw",
   "id": "e5568352",
   "metadata": {},
   "source": [
    "Sort the nums array in ascending order.\n",
    "Initialize a variable max_sum to 0.\n",
    "Iterate over the sorted array by increments of 2, starting from index 0.\n",
    "On each iteration, add the smaller element from the current pair to max_sum.\n",
    "Return max_sum."
   ]
  },
  {
   "cell_type": "raw",
   "id": "dbe45fc9",
   "metadata": {},
   "source": [
    "Question 2\n",
    "Alice has n candies, where the ith candy is of type candyType[i]. Alice noticed that she started to gain weight, so she visited a doctor. \n",
    "\n",
    "The doctor advised Alice to only eat n / 2 of the candies she has (n is always even). Alice likes her candies very much, and she wants to eat the maximum number of different types of candies while still following the doctor's advice. \n",
    "\n",
    "Given the integer array candyType of length n, return the maximum number of different types of candies she can eat if she only eats n / 2 of them.\n",
    "\n",
    "Example 1:\n",
    "Input: candyType = [1,1,2,2,3,3]\n",
    "Output: 3\n",
    "\n",
    "Explanation: Alice can only eat 6 / 2 = 3 candies. Since there are only 3 types, she can eat one of each type."
   ]
  },
  {
   "cell_type": "code",
   "execution_count": 3,
   "id": "5251ce01",
   "metadata": {},
   "outputs": [],
   "source": [
    "def maxCandies(candyType):\n",
    "    unique_types = set()\n",
    "    for candy in candyType:\n",
    "        unique_types.add(candy)\n",
    "\n",
    "    max_types = len(unique_types)\n",
    "    max_eat = min(max_types, len(candyType) // 2)\n",
    "    return max_eat"
   ]
  },
  {
   "cell_type": "code",
   "execution_count": 4,
   "id": "b0f9acf8",
   "metadata": {},
   "outputs": [
    {
     "name": "stdout",
     "output_type": "stream",
     "text": [
      "3\n"
     ]
    }
   ],
   "source": [
    "candyType = [1, 1, 2, 2, 3, 3]\n",
    "result = maxCandies(candyType)\n",
    "print(result)  "
   ]
  },
  {
   "cell_type": "raw",
   "id": "9c71f9f8",
   "metadata": {},
   "source": [
    "O(n)time complexity,\n",
    "O(k)space complexity"
   ]
  },
  {
   "cell_type": "raw",
   "id": "15b38b22",
   "metadata": {},
   "source": [
    "Initialize a set unique_types to store the unique candy types.\n",
    "Iterate over each candy in candyType.\n",
    "Add the candy to the unique_types set.\n",
    "Calculate the maximum number of different types of candies Alice can eat:\n",
    "Get the length of unique_types and assign it to max_types.\n",
    "Calculate n / 2 and assign it to max_eat.\n",
    "Take the minimum value between max_types and max_eat and assign it to max_eat.\n",
    "Return max_eat."
   ]
  },
  {
   "cell_type": "raw",
   "id": "888bca78",
   "metadata": {},
   "source": [
    "Question 3\n",
    "We define a harmonious array as an array where the difference between its maximum value\n",
    "and its minimum value is exactly 1.\n",
    "\n",
    "Given an integer array nums, return the length of its longest harmonious subsequence\n",
    "among all its possible subsequences.\n",
    "\n",
    "A subsequence of an array is a sequence that can be derived from the array by deleting some or no elements without changing the order of the remaining elements.\n",
    "\n",
    "Example 1:\n",
    "Input: nums = [1,3,2,2,5,2,3,7]\n",
    "Output: 5\n",
    "\n",
    "Explanation: The longest harmonious subsequence is [3,2,2,2,3]."
   ]
  },
  {
   "cell_type": "code",
   "execution_count": 5,
   "id": "688c3ddd",
   "metadata": {},
   "outputs": [],
   "source": [
    "from collections import Counter\n",
    "\n",
    "def find(nums):\n",
    "    num_counts = Counter(nums)\n",
    "    max_length = 0\n",
    "\n",
    "    for num in set(nums):\n",
    "        if num + 1 in num_counts:\n",
    "            length = num_counts[num] + num_counts[num + 1]\n",
    "            max_length = max(max_length, length)\n",
    "\n",
    "    return max_length"
   ]
  },
  {
   "cell_type": "code",
   "execution_count": 6,
   "id": "7033e710",
   "metadata": {},
   "outputs": [
    {
     "name": "stdout",
     "output_type": "stream",
     "text": [
      "5\n"
     ]
    }
   ],
   "source": [
    "nums = [1, 3, 2, 2, 5, 2, 3, 7]\n",
    "result = find(nums)\n",
    "print(result)  \n"
   ]
  },
  {
   "cell_type": "raw",
   "id": "af66d4a6",
   "metadata": {},
   "source": [
    "O(n)time complexity,\n",
    "O(n)space complexity   "
   ]
  },
  {
   "cell_type": "raw",
   "id": "d0d1a2b6",
   "metadata": {},
   "source": [
    "Initialize a dictionary num_counts to store the frequency of each number in nums.\n",
    "Iterate over each number in nums and update its frequency in num_counts.\n",
    "Initialize a variable max_length to 0.\n",
    "Iterate over the unique numbers in nums.\n",
    "If the current number plus 1 exists in num_counts, update max_length to the maximum between max_length and the sum of the frequencies of the current number and the number plus 1.\n",
    "Return max_length."
   ]
  },
  {
   "cell_type": "raw",
   "id": "2dd048cc",
   "metadata": {},
   "source": [
    "Question 4\n",
    "You have a long flowerbed in which some of the plots are planted, and some are not.\n",
    "However, flowers cannot be planted in adjacent plots.\n",
    "Given an integer array flowerbed containing 0's and 1's, where 0 means empty and 1 means not empty, and an integer n, return true if n new flowers can be planted in the flowerbed without violating the no-adjacent-flowers rule and false otherwise.\n",
    "\n",
    "Example 1:\n",
    "Input: flowerbed = [1,0,0,0,1], n = 1\n",
    "Output: true"
   ]
  },
  {
   "cell_type": "code",
   "execution_count": 7,
   "id": "bdad8743",
   "metadata": {},
   "outputs": [],
   "source": [
    "def PlaceFlowers(flowerbed, n):\n",
    "    count = 0\n",
    "    length = len(flowerbed)\n",
    "    for i in range(length):\n",
    "        if flowerbed[i] == 0 and (i == 0 or flowerbed[i - 1] == 0) and (i == length - 1 or flowerbed[i + 1] == 0):\n",
    "            count += 1\n",
    "            flowerbed[i] = 1\n",
    "    return count >= n\n"
   ]
  },
  {
   "cell_type": "code",
   "execution_count": 8,
   "id": "5ce6b1de",
   "metadata": {},
   "outputs": [
    {
     "name": "stdout",
     "output_type": "stream",
     "text": [
      "True\n"
     ]
    }
   ],
   "source": [
    "flowerbed = [1, 0, 0, 0, 1]\n",
    "n = 1\n",
    "result = PlaceFlowers(flowerbed, n)\n",
    "print(result)  "
   ]
  },
  {
   "cell_type": "raw",
   "id": "546f2950",
   "metadata": {},
   "source": [
    " O(length)time complexity,\n",
    " O(1)space complexity"
   ]
  },
  {
   "cell_type": "raw",
   "id": "4a4fab74",
   "metadata": {},
   "source": [
    "Initialize a variable count to 0 to keep track of the number of new flowers that can be planted.\n",
    "Iterate over the elements in the flowerbed.\n",
    "If the current plot is empty (0), check if both the previous and next plots (if they exist) are also empty.\n",
    "If they are empty or don't exist, increment count by 1 and mark the current plot as planted (set it to 1).\n",
    "After iterating through the flowerbed, compare count with n.\n",
    "If count is greater than or equal to n, return True since n new flowers can be planted.\n",
    "Otherwise, return False since there are not enough empty adjacent plots for n new flowers."
   ]
  },
  {
   "cell_type": "raw",
   "id": "0415c887",
   "metadata": {},
   "source": [
    "Question 5\n",
    "Given an integer array nums, find three numbers whose product is maximum and return the maximum product.\n",
    "\n",
    "Example 1:\n",
    "Input: nums = [1,2,3]\n",
    "Output: 6"
   ]
  },
  {
   "cell_type": "code",
   "execution_count": 17,
   "id": "f0766cdc",
   "metadata": {},
   "outputs": [],
   "source": [
    "def maximumProduct(nums):\n",
    "    nums.sort()\n",
    "    product1 = nums[-1] * nums[-2] * nums[-3]\n",
    "    return (product1)\n"
   ]
  },
  {
   "cell_type": "code",
   "execution_count": 18,
   "id": "0771a42c",
   "metadata": {},
   "outputs": [
    {
     "name": "stdout",
     "output_type": "stream",
     "text": [
      "6\n"
     ]
    }
   ],
   "source": [
    "nums = [1, 2, 3]\n",
    "result = maximumProduct(nums)\n",
    "print(result)"
   ]
  },
  {
   "cell_type": "raw",
   "id": "5159b258",
   "metadata": {},
   "source": [
    "O(nlog n)time complexity,\n",
    "O(1)space complexity"
   ]
  },
  {
   "cell_type": "raw",
   "id": "e81b799a",
   "metadata": {},
   "source": [
    "Sort the nums array in ascending order.\n",
    "the function returns the maximum value between product1\n",
    "return product of last three elements also largest elements because it is sorted"
   ]
  },
  {
   "cell_type": "raw",
   "id": "1533483f",
   "metadata": {},
   "source": [
    "Question 6\n",
    "Given an array of integers nums which is sorted in ascending order, and an integer target,\n",
    "write a function to search target in nums. If target exists, then return its index. Otherwise,\n",
    "return -1.\n",
    "\n",
    "You must write an algorithm with O(log n) runtime complexity.\n",
    "\n",
    "Input: nums = [-1,0,3,5,9,12], target = 9\n",
    "Output: 4\n",
    "\n",
    "Explanation: 9 exists in nums and its index is 4"
   ]
  },
  {
   "cell_type": "code",
   "execution_count": 11,
   "id": "8db4aef7",
   "metadata": {},
   "outputs": [],
   "source": [
    "def search(nums, target):\n",
    "    left = 0\n",
    "    right = len(nums) - 1\n",
    "\n",
    "    while left <= right:\n",
    "        mid = (left + right) // 2\n",
    "\n",
    "        if nums[mid] == target:\n",
    "            return mid\n",
    "        elif target < nums[mid]:\n",
    "            right = mid - 1\n",
    "        else:\n",
    "            left = mid + 1\n",
    "\n",
    "    return -1"
   ]
  },
  {
   "cell_type": "code",
   "execution_count": 12,
   "id": "8603d9b5",
   "metadata": {},
   "outputs": [
    {
     "name": "stdout",
     "output_type": "stream",
     "text": [
      "4\n"
     ]
    }
   ],
   "source": [
    "nums = [-1, 0, 3, 5, 9, 12]\n",
    "target = 9\n",
    "result = search(nums, target)\n",
    "print(result)  \n"
   ]
  },
  {
   "cell_type": "markdown",
   "id": "b2f732d7",
   "metadata": {},
   "source": [
    "O(log n)time complexity,\n",
    "O(1)space complexity"
   ]
  },
  {
   "cell_type": "raw",
   "id": "b84b02f9",
   "metadata": {},
   "source": [
    "Initialize two pointers, left and right, to the start and end indices of the array, respectively.\n",
    "While left is less than or equal to right:\n",
    "Calculate the middle index as (left + right) // 2.\n",
    "If the target value is equal to the middle element, return the middle index.\n",
    "If the target value is less than the middle element, update right to mid - 1.\n",
    "If the target value is greater than the middle element, update left to mid + 1.\n",
    "If the target value is not found, return -1."
   ]
  },
  {
   "cell_type": "raw",
   "id": "1a348911",
   "metadata": {},
   "source": [
    "Question 7\n",
    "An array is monotonic if it is either monotone increasing or monotone decreasing.\n",
    "\n",
    "An array nums is monotone increasing if for all i <= j, nums[i] <= nums[j]. An array nums is\n",
    "monotone decreasing if for all i <= j, nums[i] >= nums[j].\n",
    "\n",
    "Given an integer array nums, return true if the given array is monotonic, or false otherwise.\n",
    "\n",
    "Example 1:\n",
    "Input: nums = [1,2,2,3]\n",
    "Output: true"
   ]
  },
  {
   "cell_type": "code",
   "execution_count": 13,
   "id": "3cfb92cb",
   "metadata": {},
   "outputs": [],
   "source": [
    "def Monotonic(nums):\n",
    "    isIncreasing = True\n",
    "    isDecreasing = True\n",
    "\n",
    "    for i in range(1, len(nums)):\n",
    "        if nums[i] < nums[i - 1]:\n",
    "            isIncreasing = False\n",
    "        if nums[i] > nums[i - 1]:\n",
    "            isDecreasing = False\n",
    "        if not isIncreasing and not isDecreasing:\n",
    "            return False\n",
    "\n",
    "    return True\n"
   ]
  },
  {
   "cell_type": "code",
   "execution_count": 14,
   "id": "9b6fce2f",
   "metadata": {},
   "outputs": [
    {
     "name": "stdout",
     "output_type": "stream",
     "text": [
      "True\n"
     ]
    }
   ],
   "source": [
    "nums = [1, 2, 2, 3]\n",
    "result = Monotonic(nums)\n",
    "print(result)  \n"
   ]
  },
  {
   "cell_type": "raw",
   "id": "3fc292a1",
   "metadata": {},
   "source": [
    "O(n)time complexity,\n",
    "O(1)space complexity"
   ]
  },
  {
   "cell_type": "raw",
   "id": "3e600fcc",
   "metadata": {},
   "source": [
    "Initialize two boolean variables, isIncreasing and isDecreasing, to True.\n",
    "Iterate over the elements in nums starting from index 1.\n",
    "If the current element is less than the previous element, set isIncreasing to False.\n",
    "If the current element is greater than the previous element, set isDecreasing to False.\n",
    "If both isIncreasing and isDecreasing are False, return False since the array is neither monotone increasing nor monotone decreasing.\n",
    "If the iteration completes without returning False, return True."
   ]
  },
  {
   "cell_type": "raw",
   "id": "65d5aa22",
   "metadata": {},
   "source": [
    "Question 8\n",
    "You are given an integer array nums and an integer k.\n",
    "\n",
    "In one operation, you can choose any index i where 0 <= i < nums.length and change nums[i] to nums[i] + x where x is an integer from the range [-k, k]. You can apply this operation at most once for each index i.\n",
    "\n",
    "The score of nums is the difference between the maximum and minimum elements in nums.\n",
    "\n",
    "Return the minimum score of nums after applying the mentioned operation at most once for each index in it.\n",
    "\n",
    "Example 1:\n",
    "Input: nums = [1], k = 0\n",
    "Output: 0\n",
    "\n",
    "Explanation: The score is max(nums) - min(nums) = 1 - 1 = 0."
   ]
  },
  {
   "cell_type": "code",
   "execution_count": 15,
   "id": "cfce8ed5",
   "metadata": {},
   "outputs": [],
   "source": [
    "def minScore(nums, k):\n",
    "    min_val = min(nums)\n",
    "    max_val = max(nums)\n",
    "\n",
    "    if max_val - min_val <= 2 * k:\n",
    "        return 0\n",
    "    else:\n",
    "        return max_val - min_val - 2 * k\n"
   ]
  },
  {
   "cell_type": "code",
   "execution_count": 16,
   "id": "6251f30e",
   "metadata": {},
   "outputs": [
    {
     "name": "stdout",
     "output_type": "stream",
     "text": [
      "0\n"
     ]
    }
   ],
   "source": [
    "nums = [1]\n",
    "k = 0\n",
    "result = minScore(nums, k)\n",
    "print(result)  \n"
   ]
  },
  {
   "cell_type": "markdown",
   "id": "5f32fe1e",
   "metadata": {},
   "source": [
    "O(n)time complexity,\n",
    "O(1)space complexity"
   ]
  },
  {
   "cell_type": "raw",
   "id": "966dc8c0",
   "metadata": {},
   "source": [
    "Initialize variables min_val and max_val to the minimum and maximum elements in nums, respectively.\n",
    "If the difference between max_val and min_val is less than or equal to 2 * k, return 0, as we can make the difference zero by applying the operation optimally.\n",
    "Otherwise, update min_val to max_val - 2 * k, as we can reduce the maximum value to max_val - k and increase the minimum value to min_val + k using the operation.\n",
    "Return max_val - min_val."
   ]
  }
 ],
 "metadata": {
  "kernelspec": {
   "display_name": "Python 3 (ipykernel)",
   "language": "python",
   "name": "python3"
  },
  "language_info": {
   "codemirror_mode": {
    "name": "ipython",
    "version": 3
   },
   "file_extension": ".py",
   "mimetype": "text/x-python",
   "name": "python",
   "nbconvert_exporter": "python",
   "pygments_lexer": "ipython3",
   "version": "3.9.12"
  }
 },
 "nbformat": 4,
 "nbformat_minor": 5
}
