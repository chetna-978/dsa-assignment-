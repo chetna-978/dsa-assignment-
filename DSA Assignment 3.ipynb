{
 "cells": [
  {
   "cell_type": "markdown",
   "id": "bb60d16b",
   "metadata": {},
   "source": [
    "### Question 1\n",
    "Given an integer array nums of length n and an integer target, find three integers\n",
    "in nums such that the sum is closest to the target.\n",
    "Return the sum of the three integers.\n",
    "\n",
    "You may assume that each input would have exactly one solution.\n",
    "\n",
    "Example 1:\n",
    "Input: nums = [-1,2,1,-4], target = 1\n",
    "Output: 2\n",
    "\n",
    "Explanation: The sum that is closest to the target is 2. (-1 + 2 + 1 = 2)."
   ]
  },
  {
   "cell_type": "code",
   "execution_count": 38,
   "id": "906a6e24",
   "metadata": {},
   "outputs": [],
   "source": [
    "def SumClosest(nums, target):\n",
    "    nums.sort()\n",
    "    n = len(nums)\n",
    "    closestSum = float('inf')\n",
    "\n",
    "    for i in range(n - 2):\n",
    "        num1 = nums[i]\n",
    "        left = i + 1\n",
    "        right = n - 1\n",
    "\n",
    "        while left < right:\n",
    "            currentSum = num1 + nums[left] + nums[right]\n",
    "            if currentSum == target:\n",
    "                return target\n",
    "\n",
    "            if currentSum > target:\n",
    "                if currentSum - target < abs(closestSum - target):\n",
    "                    closestSum = currentSum\n",
    "                right -= 1\n",
    "            else:\n",
    "                if target - currentSum < abs(closestSum - target):\n",
    "                    closestSum = currentSum\n",
    "                left += 1\n",
    "\n",
    "    return closestSum\n"
   ]
  },
  {
   "cell_type": "code",
   "execution_count": 39,
   "id": "c3aab31e",
   "metadata": {},
   "outputs": [
    {
     "data": {
      "text/plain": [
       "2"
      ]
     },
     "execution_count": 39,
     "metadata": {},
     "output_type": "execute_result"
    }
   ],
   "source": [
    "nums = [-1,2,1,-4]\n",
    "target = 1\n",
    "SumClosest(nums, target)"
   ]
  },
  {
   "cell_type": "markdown",
   "id": "4b08ffb5",
   "metadata": {},
   "source": [
    "Sort the array nums in ascending order. This will allow us to efficiently search for the closest sum using the two-pointer approach.\n",
    "Initialize a variable closestSum to store the closest sum encountered so far.\n",
    "Set it to a large value initially.\n",
    "Iterate over the sorted array nums up to the second-to-last element. \n",
    "Let's call the current element num1.\n",
    "Initialize two pointers, left and right, with values i + 1 and n - 1 respectively, where i is the current index.\n",
    "While left is less than right, do the following:\n",
    "Calculate the sum of the three elements: num1 + nums[left] + nums[right].\n",
    "if the current sum exceeds the target by a certain threshold, we can break out of the inner loop and move on to the next iteration of the outer loop.\n",
    "After the iteration, return the value of closestSum"
   ]
  },
  {
   "cell_type": "markdown",
   "id": "2e323fb2",
   "metadata": {},
   "source": [
    "O(n^2)time complexity,\n",
    "O(1)space complexity"
   ]
  },
  {
   "cell_type": "markdown",
   "id": "03427939",
   "metadata": {},
   "source": [
    "### Question 2\n",
    "Given an array nums of n integers, return an array of all the unique quadruplets\n",
    "[nums[a], nums[b], nums[c], nums[d]] such that:\n",
    "           ● 0 <= a, b, c, d < n\n",
    "           ● a, b, c, and d are distinct.\n",
    "           ● nums[a] + nums[b] + nums[c] + nums[d] == target\n",
    "\n",
    "You may return the answer in any order.\n",
    "\n",
    "Example 1:\n",
    "Input: nums = [1,0,-1,0,-2,2], target = 0\n",
    "Output: [[-2,-1,1,2],[-2,0,0,2],[-1,0,0,1]]"
   ]
  },
  {
   "cell_type": "code",
   "execution_count": 40,
   "id": "67ae5248",
   "metadata": {},
   "outputs": [],
   "source": [
    "def fourSum(nums, target):\n",
    "    nums.sort()\n",
    "    n = len(nums)\n",
    "    result = []\n",
    "\n",
    "    for i in range(n - 3):\n",
    "        if i > 0 and nums[i] == nums[i - 1]:\n",
    "            continue\n",
    "\n",
    "        for j in range(i + 1, n - 2):\n",
    "            if j > i + 1 and nums[j] == nums[j - 1]:\n",
    "                continue\n",
    "\n",
    "            left = j + 1\n",
    "            right = n - 1\n",
    "\n",
    "            while left < right:\n",
    "                currentSum = nums[i] + nums[j] + nums[left] + nums[right]\n",
    "\n",
    "                if currentSum == target:\n",
    "                    result.append([nums[i], nums[j], nums[left], nums[right]])\n",
    "                    while left < right and nums[left] == nums[left + 1]:\n",
    "                        left += 1\n",
    "                    while left < right and nums[right] == nums[right - 1]:\n",
    "                        right -= 1\n",
    "                    left += 1\n",
    "                    right -= 1\n",
    "                elif currentSum < target:\n",
    "                    left += 1\n",
    "                else:\n",
    "                    right -= 1\n",
    "\n",
    "    return result\n"
   ]
  },
  {
   "cell_type": "code",
   "execution_count": 41,
   "id": "d5e48d57",
   "metadata": {},
   "outputs": [
    {
     "data": {
      "text/plain": [
       "[[-2, -1, 1, 2], [-2, 0, 0, 2], [-1, 0, 0, 1]]"
      ]
     },
     "execution_count": 41,
     "metadata": {},
     "output_type": "execute_result"
    }
   ],
   "source": [
    "nums = [1,0,-1,0,-2,2]\n",
    "target = 0\n",
    "fourSum(nums, target)"
   ]
  },
  {
   "cell_type": "markdown",
   "id": "99b0e8d9",
   "metadata": {},
   "source": [
    "O(n^3)time complexity,\n",
    "O(1)space complexity"
   ]
  },
  {
   "cell_type": "markdown",
   "id": "5c995f15",
   "metadata": {},
   "source": [
    " ### Question 3\n",
    "A permutation of an array of integers is an arrangement of its members into a\n",
    "sequence or linear order.\n",
    "\n",
    "For example, for arr = [1,2,3], the following are all the permutations of arr:\n",
    "[1,2,3], [1,3,2], [2, 1, 3], [2, 3, 1], [3,1,2], [3,2,1].\n",
    "\n",
    "The next permutation of an array of integers is the next lexicographically greater\n",
    "permutation of its integer. More formally, if all the permutations of the array are\n",
    "sorted in one container according to their lexicographical order, then the next\n",
    "permutation of that array is the permutation that follows it in the sorted container.\n",
    "\n",
    "If such an arrangement is not possible, the array must be rearranged as the\n",
    "lowest possible order (i.e., sorted in ascending order).\n",
    "\n",
    "● For example, the next permutation of arr = [1,2,3] is [1,3,2].\n",
    "● Similarly, the next permutation of arr = [2,3,1] is [3,1,2].\n",
    "● While the next permutation of arr = [3,2,1] is [1,2,3] because [3,2,1] does not\n",
    "have a lexicographical larger rearrangement.\n",
    "\n",
    "Given an array of integers nums, find the next permutation of nums.\n",
    "The replacement must be in place and use only constant extra memory.\n",
    "\n",
    "**Example 1:**\n",
    "Input: nums = [1,2,3]\n",
    "Output: [1,3,2]"
   ]
  },
  {
   "cell_type": "code",
   "execution_count": 42,
   "id": "c2cd6ed9",
   "metadata": {},
   "outputs": [],
   "source": [
    "def next_permutation(nums):\n",
    "    i = len(nums) - 2\n",
    "    while i >= 0 and nums[i + 1] <= nums[i]:\n",
    "        i -= 1\n",
    "    if i >= 0:\n",
    "        j = len(nums) - 1\n",
    "        while nums[j] <= nums[i]:\n",
    "            j -= 1\n",
    "        nums[i], nums[j] = nums[j], nums[i]\n",
    "    reverse(nums, i + 1)\n",
    "def reverse(nums, start):\n",
    "    i, j = start, len(nums) - 1\n",
    "    while i < j:\n",
    "        nums[i], nums[j] = nums[j], nums[i]\n",
    "        i += 1\n",
    "        j -= 1"
   ]
  },
  {
   "cell_type": "code",
   "execution_count": 43,
   "id": "93654ddd",
   "metadata": {},
   "outputs": [
    {
     "name": "stdout",
     "output_type": "stream",
     "text": [
      "Next permutation: [1, 3, 2]\n"
     ]
    }
   ],
   "source": [
    "nums = [1,2,3]\n",
    "next_permutation(nums)\n",
    "print(\"Next permutation:\", nums)"
   ]
  },
  {
   "cell_type": "markdown",
   "id": "dbd43fbd",
   "metadata": {},
   "source": [
    "O(n)time complexity,\n",
    "O(1)space complexity"
   ]
  },
  {
   "cell_type": "markdown",
   "id": "9173635a",
   "metadata": {},
   "source": [
    "Start from the rightmost element of the array and find the first pair of adjacent elements nums[i] and nums[i+1] such that nums[i] < nums[i+1].\n",
    "If no such pair exists, it means the array is in descending order, and we cannot find the next permutation. In this case, we reverse the entire array to get the lowest possible order.\n",
    "If we found a pair in step 1, it means we can rearrange the array to obtain a greater permutation. We need to find the smallest element in the subarray nums[i+1:] that is greater than nums[i].\n",
    "Swap the element nums[i] with the smallest element we found in step 2.Reverse the subarray nums[i+1:] to get the smallest lexicographically sorted permutation of the remaining elements.\n",
    "The resulting array is the next permutation."
   ]
  },
  {
   "cell_type": "markdown",
   "id": "a4f28532",
   "metadata": {},
   "source": [
    "### Question 4\n",
    "Given a sorted array of distinct integers and a target value, return the index if the\n",
    "target is found. If not, return the index where it would be if it were inserted in\n",
    "order.\n",
    "\n",
    "You must write an algorithm with O(log n) runtime complexity.\n",
    "\n",
    "Example 1:\n",
    "Input: nums = [1,3,5,6], target = 5\n",
    "Output: 2"
   ]
  },
  {
   "cell_type": "code",
   "execution_count": 44,
   "id": "20f03ebb",
   "metadata": {},
   "outputs": [],
   "source": [
    "def searchInsert(nums, target):\n",
    "    left = 0\n",
    "    right = len(nums) - 1\n",
    "\n",
    "    while left <= right:\n",
    "        mid = (left + right) // 2\n",
    "        if nums[mid] == target:\n",
    "            return mid\n",
    "        elif nums[mid] < target:\n",
    "            left = mid + 1\n",
    "        else:\n",
    "            right = mid - 1\n",
    "\n",
    "    return left\n"
   ]
  },
  {
   "cell_type": "code",
   "execution_count": 45,
   "id": "268933a0",
   "metadata": {},
   "outputs": [
    {
     "data": {
      "text/plain": [
       "2"
      ]
     },
     "execution_count": 45,
     "metadata": {},
     "output_type": "execute_result"
    }
   ],
   "source": [
    "nums = [1,3,5,6]\n",
    "target = 5 \n",
    "searchInsert(nums, target)"
   ]
  },
  {
   "cell_type": "markdown",
   "id": "e51d6841",
   "metadata": {},
   "source": [
    "Initialize two pointers, left and right, pointing to the start and end of the array respectively.\n",
    "While left is less than or equal to right, do the following:\n",
    "Calculate the middle index as mid using the formula mid = (left + right) // 2.\n",
    "Compare the target value with the element at index mid:\n",
    "If the target is equal to the element at index mid, return mid.\n",
    "If the target is less than the element at index mid, update right to mid - 1 to search in the left half of the array.\n",
    "If the target is greater than the element at index mid, update left to mid + 1 to search in the right half of the array.\n",
    "If the target value is not found in the array, the left pointer will be pointing to the index where the target would be inserted in order. Return the value of left."
   ]
  },
  {
   "cell_type": "markdown",
   "id": "598900f2",
   "metadata": {},
   "source": [
    "### Question 5\n",
    "You are given a large integer represented as an integer array digits, where each\n",
    "digits[i] is the ith digit of the integer. The digits are ordered from most significant\n",
    "to least significant in left-to-right order. The large integer does not contain any\n",
    "leading 0's.\n",
    "\n",
    "Increment the large integer by one and return the resulting array of digits.\n",
    "\n",
    "**Example 1:**\n",
    "Input: digits = [1,2,3]\n",
    "Output: [1,2,4]\n",
    "\n",
    "**Explanation:** The array represents the integer 123.\n",
    "Incrementing by one gives 123 + 1 = 124.\n",
    "Thus, the result should be [1,2,4]."
   ]
  },
  {
   "cell_type": "code",
   "execution_count": 46,
   "id": "062ef442",
   "metadata": {},
   "outputs": [],
   "source": [
    "def plusOne(digits):\n",
    "    n = len(digits)\n",
    "    for i in range(n - 1, -1, -1):\n",
    "        if digits[i] < 9:\n",
    "            digits[i] += 1\n",
    "            return digits\n",
    "        else:\n",
    "            digits[i] = 0\n",
    "\n",
    "    # If we reach this point, it means all digits were 9\n",
    "    digits.insert(0, 1)\n",
    "    return digits\n"
   ]
  },
  {
   "cell_type": "code",
   "execution_count": 47,
   "id": "7b1eeef3",
   "metadata": {},
   "outputs": [
    {
     "data": {
      "text/plain": [
       "[1, 2, 4]"
      ]
     },
     "execution_count": 47,
     "metadata": {},
     "output_type": "execute_result"
    }
   ],
   "source": [
    "digits = [1,2,3]\n",
    "plusOne(digits)"
   ]
  },
  {
   "cell_type": "markdown",
   "id": "fde97222",
   "metadata": {},
   "source": [
    "O(n)time complexity\n",
    "O(1)space complexity"
   ]
  },
  {
   "cell_type": "markdown",
   "id": "613a05be",
   "metadata": {},
   "source": [
    "Start from the least significant digit, which is the rightmost element in the array.\n",
    "Increment the rightmost digit by one.\n",
    "If the incremented digit becomes 10, set it to 0 and move to the next digit.\n",
    "Repeat step 3 until a digit does not become 10 or we reach the most significant digit.\n",
    "If we reach the most significant digit and it becomes 10, we need to add an additional digit at the front of the array and set it to 1.\n",
    "Reverse the array to obtain the correct order of digits.\n",
    "Return the resulting array."
   ]
  },
  {
   "cell_type": "markdown",
   "id": "02497167",
   "metadata": {},
   "source": [
    "### Question 6\n",
    "Given a non-empty array of integers nums, every element appears twice except\n",
    "for one. Find that single one.\n",
    "\n",
    "You must implement a solution with a linear runtime complexity and use only\n",
    "constant extra space.\n",
    "\n",
    "Example 1:\n",
    "Input: nums = [2,2,1]\n",
    "Output: 1"
   ]
  },
  {
   "cell_type": "code",
   "execution_count": 48,
   "id": "08d60911",
   "metadata": {},
   "outputs": [],
   "source": [
    "def singleNumber(nums):\n",
    "    result = 0\n",
    "    for num in nums:\n",
    "        result ^= num\n",
    "    return result\n"
   ]
  },
  {
   "cell_type": "code",
   "execution_count": 49,
   "id": "b5930b5c",
   "metadata": {},
   "outputs": [
    {
     "data": {
      "text/plain": [
       "1"
      ]
     },
     "execution_count": 49,
     "metadata": {},
     "output_type": "execute_result"
    }
   ],
   "source": [
    "nums = [2,2,1]\n",
    "singleNumber(nums)"
   ]
  },
  {
   "cell_type": "markdown",
   "id": "378dbcd8",
   "metadata": {},
   "source": [
    "Initialize a variable result to 0.\n",
    "Iterate through each element num in the array nums.\n",
    "Update result by XORing it with num.\n",
    "After iterating through all elements, the value of result will be the element that appears only once.\n",
    "Return the value of result."
   ]
  },
  {
   "cell_type": "markdown",
   "id": "8685cc36",
   "metadata": {},
   "source": [
    "### Question 7\n",
    "You are given an inclusive range [lower, upper] and a sorted unique integer array\n",
    "nums, where all elements are within the inclusive range.\n",
    "\n",
    "A number x is considered missing if x is in the range [lower, upper] and x is not in\n",
    "nums.\n",
    "\n",
    "Return the shortest sorted list of ranges that exactly covers all the missing\n",
    "numbers. That is, no element of nums is included in any of the ranges, and each\n",
    "missing number is covered by one of the ranges.\n",
    "\n",
    "Example 1:\n",
    "Input: nums = [0,1,3,50,75], lower = 0, upper = 99\n",
    "Output: [[2,2],[4,49],[51,74],[76,99]]\n",
    "\n",
    "Explanation: The ranges are:\n",
    "[2,2]\n",
    "[4,49]\n",
    "[51,74]\n",
    "[76,99]"
   ]
  },
  {
   "cell_type": "code",
   "execution_count": 50,
   "id": "31c897c8",
   "metadata": {},
   "outputs": [],
   "source": [
    "def MissingRanges(nums, lower, upper):\n",
    "    ranges = []\n",
    "    prev = lower - 1\n",
    "\n",
    "    for num in nums + [upper + 1]:\n",
    "        if num > prev + 1:\n",
    "            if prev + 1 == num - 1:\n",
    "                ranges.append(str(prev + 1))\n",
    "            else:\n",
    "                ranges.append(str(prev + 1) + '->' + str(num - 1))\n",
    "        prev = num\n",
    "\n",
    "    return ranges\n"
   ]
  },
  {
   "cell_type": "code",
   "execution_count": 51,
   "id": "4426af97",
   "metadata": {},
   "outputs": [
    {
     "data": {
      "text/plain": [
       "['2', '4->49', '51->74', '76->99']"
      ]
     },
     "execution_count": 51,
     "metadata": {},
     "output_type": "execute_result"
    }
   ],
   "source": [
    "nums = [0, 1, 3, 50, 75]\n",
    "lower = 0\n",
    "upper = 99\n",
    "MissingRanges(nums, lower, upper)\n"
   ]
  },
  {
   "cell_type": "markdown",
   "id": "a6f7f708",
   "metadata": {},
   "source": [
    "O(n)time complexity,\n",
    "O(k)space complexity"
   ]
  },
  {
   "cell_type": "markdown",
   "id": "8801e885",
   "metadata": {},
   "source": [
    "Initialize an empty list ranges to store the resulting ranges.\n",
    "Check if the lower bound lower is less than the first element of nums. If so, there are missing numbers between lower and the first element of nums. Add the range [lower, first element - 1] to ranges.\n",
    "Iterate through the elements of nums:\n",
    "If the current element is greater than the previous element + 1, there are missing numbers between them. Add the range [previous element + 1, current element - 1] to ranges.\n",
    "Finally, if the upper bound upper is greater than the last element of nums, there are missing numbers between the last element of nums and upper. Add the range [last element + 1, upper] to ranges.\n",
    "Return the resulting ranges."
   ]
  },
  {
   "cell_type": "markdown",
   "id": "ad037e9f",
   "metadata": {},
   "source": [
    "### Question 8\n",
    "Given an array of meeting time intervals where intervals[i] = [starti, endi],\n",
    "determine if a person could attend all meetings.\n",
    "\n",
    "**Example 1:**\n",
    "Input: intervals = [[0,30],[5,10],[15,20]]\n",
    "Output: false\n"
   ]
  },
  {
   "cell_type": "code",
   "execution_count": 52,
   "id": "ab98390e",
   "metadata": {},
   "outputs": [],
   "source": [
    "def Meetings(intervals):\n",
    "    intervals.sort(key=lambda x: x[0])\n",
    "    for i in range(1, len(intervals)):\n",
    "        if intervals[i][0] < intervals[i-1][1]:\n",
    "            return False\n",
    "    return True\n"
   ]
  },
  {
   "cell_type": "code",
   "execution_count": 53,
   "id": "adc9a711",
   "metadata": {},
   "outputs": [
    {
     "data": {
      "text/plain": [
       "False"
      ]
     },
     "execution_count": 53,
     "metadata": {},
     "output_type": "execute_result"
    }
   ],
   "source": [
    "intervals = [[0,30],[5,10],[15,20]]\n",
    "Meetings(intervals)"
   ]
  },
  {
   "cell_type": "markdown",
   "id": "64ba622b",
   "metadata": {},
   "source": [
    "O(n log n)time complexity,\n",
    "O(1)space complexity"
   ]
  },
  {
   "cell_type": "markdown",
   "id": "c6f1ef75",
   "metadata": {},
   "source": [
    "Sort the intervals based on the start time.\n",
    "Iterate through the sorted intervals starting from the second interval.\n",
    "Check if the start time of the current interval is less than or equal to the end time of the previous interval.\n",
    "If so, there is an overlap between the current interval and the previous interval, and the person cannot attend all meetings. Return False.\n",
    "If there are no overlapping intervals after iterating through all intervals, it means the person can attend all meetings. Return True."
   ]
  }
 ],
 "metadata": {
  "kernelspec": {
   "display_name": "Python 3 (ipykernel)",
   "language": "python",
   "name": "python3"
  },
  "language_info": {
   "codemirror_mode": {
    "name": "ipython",
    "version": 3
   },
   "file_extension": ".py",
   "mimetype": "text/x-python",
   "name": "python",
   "nbconvert_exporter": "python",
   "pygments_lexer": "ipython3",
   "version": "3.9.12"
  }
 },
 "nbformat": 4,
 "nbformat_minor": 5
}
