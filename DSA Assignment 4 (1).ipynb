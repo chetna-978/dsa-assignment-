{
 "cells": [
  {
   "cell_type": "markdown",
   "id": "53a76f35",
   "metadata": {},
   "source": [
    "\n",
    "💡 **Question 1**\n",
    "Given three integer arrays arr1, arr2 and arr3 **sorted** in **strictly increasing** order, return a sorted array of **only** the integers that appeared in **all** three arrays.\n",
    "\n",
    "**Example 1:**\n",
    "\n",
    "Input: arr1 = [1,2,3,4,5], arr2 = [1,2,5,7,9], arr3 = [1,3,4,5,8]\n",
    "\n",
    "Output: [1,5]\n",
    "\n",
    "**Explanation:** Only 1 and 5 appeared in the three arrays."
   ]
  },
  {
   "cell_type": "code",
   "execution_count": 17,
   "id": "d51b6ca5",
   "metadata": {},
   "outputs": [],
   "source": [
    "from collections import defaultdict\n",
    "\n",
    "def find_common_elements(arr1, arr2, arr3):\n",
    "    frequency = defaultdict(int)\n",
    "    \n",
    "    for num in arr1:\n",
    "        frequency[num] += 1\n",
    "    \n",
    "    window = len(arr2)\n",
    "    temp_common = []\n",
    "    \n",
    "    for i in range(window):\n",
    "        num = arr2[i]\n",
    "        if num in frequency and frequency[num] > 0:\n",
    "            frequency[num] -= 1\n",
    "            temp_common.append(num)\n",
    "    \n",
    "    window = min(window, len(arr3))\n",
    "    \n",
    "    for i in range(window):\n",
    "        num = arr3[i]\n",
    "        if num in frequency and frequency[num] > 0:\n",
    "            frequency[num] -= 1\n",
    "            temp_common.append(num)\n",
    "    \n",
    "    return temp_common\n"
   ]
  },
  {
   "cell_type": "code",
   "execution_count": 18,
   "id": "e300a582",
   "metadata": {},
   "outputs": [
    {
     "name": "stdout",
     "output_type": "stream",
     "text": [
      "[1, 2, 5, 3, 4]\n"
     ]
    }
   ],
   "source": [
    "arr1 = [1, 2, 3, 4, 5]\n",
    "arr2 = [1, 2, 5, 7, 9]\n",
    "arr3 = [1, 3, 4, 5, 8]\n",
    "\n",
    "result = find_common_elements(arr1, arr2, arr3)\n",
    "print(result)\n"
   ]
  },
  {
   "cell_type": "markdown",
   "id": "d9483150",
   "metadata": {},
   "source": [
    "Create a hashmap to store the frequency of elements in the first array arr1. Initialize the hashmap as an empty dictionary.\n",
    "\n",
    "Iterate through each element num in arr1 and increment its frequency in the hashmap.\n",
    "\n",
    "Create a variable window and set it to the size of arr2 (since it is the smallest array). This window represents the maximum number of elements that can match in the three arrays.\n",
    "\n",
    "Iterate through the elements of arr2 using a sliding window approach. The window starts at index 0 and ends at index window-1.\n",
    "\n",
    "Inside the loop, check if the current element num from arr2 exists in the hashmap and has a frequency greater than zero.\n",
    "\n",
    "If it does, decrement the frequency of num in the hashmap and append num to a temporary list temp_common.\n",
    "\n",
    "If the frequency becomes zero, remove num from the hashmap.\n",
    "\n",
    "After processing the window in arr2, update the window to the size of arr3 (the next smallest array) if it is smaller than the current window.\n",
    "\n",
    "Repeat steps 4 to 6 for arr3, using the updated window.\n",
    "\n",
    "Finally, return the temp_common list, which contains the common elements found in all three arrays.\n",
    "\n"
   ]
  },
  {
   "cell_type": "markdown",
   "id": "e6b77baa",
   "metadata": {},
   "source": [
    "O(n)time complexity,\n",
    "O(m)space complexity"
   ]
  },
  {
   "cell_type": "markdown",
   "id": "8a92ac98",
   "metadata": {},
   "source": [
    "\n",
    "💡 **Question 2**\n",
    "\n",
    "Given two **0-indexed** integer arrays nums1 and nums2, return *a list* answer *of size* 2 *where:*\n",
    "\n",
    "- answer[0] *is a list of all **distinct** integers in* nums1 *which are **not** present in* nums2*.*\n",
    "- answer[1] *is a list of all **distinct** integers in* nums2 *which are **not** present in* nums1.\n",
    "\n",
    "**Note** that the integers in the lists may be returned in **any** order.\n",
    "\n",
    "**Example 1:**\n",
    "\n",
    "**Input:** nums1 = [1,2,3], nums2 = [2,4,6]\n",
    "\n",
    "**Output:** [[1,3],[4,6]]\n",
    "\n",
    "**Explanation:**\n",
    "\n",
    "For nums1, nums1[1] = 2 is present at index 0 of nums2, whereas nums1[0] = 1 and nums1[2] = 3 are not present in nums2. Therefore, answer[0] = [1,3].\n",
    "\n",
    "For nums2, nums2[0] = 2 is present at index 1 of nums1, whereas nums2[1] = 4 and nums2[2] = 6 are not present in nums2. Therefore, answer[1] = [4,6]\n"
   ]
  },
  {
   "cell_type": "code",
   "execution_count": 19,
   "id": "5531c646",
   "metadata": {},
   "outputs": [],
   "source": [
    "def find_nums(nums1, nums2):\n",
    "    set1 = set(nums1)\n",
    "    set2 = set(nums2)\n",
    "    \n",
    "    result1 = list(set1 - set2)\n",
    "    result2 = list(set2 - set1)\n",
    "    \n",
    "    return [result1, result2]\n"
   ]
  },
  {
   "cell_type": "code",
   "execution_count": 20,
   "id": "e00333a3",
   "metadata": {},
   "outputs": [
    {
     "name": "stdout",
     "output_type": "stream",
     "text": [
      "[[1, 3], [4, 6]]\n"
     ]
    }
   ],
   "source": [
    "nums1 = [1, 2, 3]\n",
    "nums2 = [2, 4, 6]\n",
    "\n",
    "answer = find_nums(nums1, nums2)\n",
    "print(answer)\n"
   ]
  },
  {
   "cell_type": "markdown",
   "id": "3996dbbd",
   "metadata": {},
   "source": [
    "Convert nums1 and nums2 into sets to eliminate duplicate elements and make the lookup operations more efficient.\n",
    "\n",
    "Find the set difference between nums1 and nums2 to obtain the distinct integers in nums1 that are not present in nums2. Assign the result to result1.\n",
    "\n",
    "Find the set difference between nums2 and nums1 to obtain the distinct integers in nums2 that are not present in nums1. Assign the result to result2.\n",
    "\n",
    "Convert result1 and result2 back into lists.\n",
    "\n",
    "Return a list [result1, result2] as the final answer."
   ]
  },
  {
   "cell_type": "markdown",
   "id": "3242aed6",
   "metadata": {},
   "source": [
    " O(n + m)time complexity,\n",
    " O(n + m)space complexity"
   ]
  },
  {
   "cell_type": "markdown",
   "id": "705722f0",
   "metadata": {},
   "source": [
    "\n",
    "💡 **Question 3**\n",
    "Given a 2D integer array matrix, return *the **transpose** of* matrix.\n",
    "\n",
    "The **transpose** of a matrix is the matrix flipped over its main diagonal, switching the matrix's row and column indices.\n",
    "\n",
    "**Example 1:**\n",
    "\n",
    "Input: matrix = [[1,2,3],[4,5,6],[7,8,9]]\n",
    "\n",
    "Output: [[1,4,7],[2,5,8],[3,6,9]]\n"
   ]
  },
  {
   "cell_type": "code",
   "execution_count": 21,
   "id": "5e17c692",
   "metadata": {},
   "outputs": [],
   "source": [
    "def transpose(matrix):\n",
    "    rows = len(matrix)\n",
    "    columns = len(matrix[0])\n",
    "\n",
    "    transpose = [[0] * rows for _ in range(columns)]\n",
    "\n",
    "    for i in range(rows):\n",
    "        for j in range(columns):\n",
    "            transpose[j][i] = matrix[i][j]\n",
    "\n",
    "    return transpose\n"
   ]
  },
  {
   "cell_type": "code",
   "execution_count": 22,
   "id": "32e1a17d",
   "metadata": {},
   "outputs": [
    {
     "name": "stdout",
     "output_type": "stream",
     "text": [
      "[[1, 4, 7], [2, 5, 8], [3, 6, 9]]\n"
     ]
    }
   ],
   "source": [
    "matrix = [[1, 2, 3], [4, 5, 6], [7, 8, 9]]\n",
    "\n",
    "transposed_matrix = transpose(matrix)\n",
    "print(transposed_matrix)\n"
   ]
  },
  {
   "cell_type": "markdown",
   "id": "d10ce4da",
   "metadata": {},
   "source": [
    "Initialize an empty 2D matrix transpose with dimensions columns x rows, where columns is the number of columns in the original matrix and rows is the number of rows.\n",
    "\n",
    "Iterate over the rows of the original matrix. For each row i, iterate over the columns of the original matrix. For each column j, do the following:\n",
    "\n",
    "Assign the element at matrix[i][j] to transpose[j][i]. This swaps the row and column indices, effectively transposing the element.\n",
    "Return the transpose matrix."
   ]
  },
  {
   "cell_type": "markdown",
   "id": "b2a2091f",
   "metadata": {},
   "source": [
    "O(rows * columns)time complexity,space complexity"
   ]
  },
  {
   "cell_type": "markdown",
   "id": "a2c30f57",
   "metadata": {},
   "source": [
    "\n",
    "💡 **Question 4**\n",
    "Given an integer array nums of 2n integers, group these integers into n pairs (a1, b1), (a2, b2), ..., (an, bn) such that the sum of min(ai, bi) for all i is **maximized**. Return *the maximized sum*.\n",
    "\n",
    "**Example 1:**\n",
    "\n",
    "Input: nums = [1,4,3,2]\n",
    "\n",
    "Output: 4\n",
    "\n",
    "**Explanation:** All possible pairings (ignoring the ordering of elements) are:\n",
    "\n",
    "1. (1, 4), (2, 3) -> min(1, 4) + min(2, 3) = 1 + 2 = 3\n",
    "\n",
    "2. (1, 3), (2, 4) -> min(1, 3) + min(2, 4) = 1 + 2 = 3\n",
    "\n",
    "3. (1, 2), (3, 4) -> min(1, 2) + min(3, 4) = 1 + 3 = 4\n",
    "\n",
    "So the maximum possible sum is 4.\n"
   ]
  },
  {
   "cell_type": "code",
   "execution_count": 23,
   "id": "21c6549c",
   "metadata": {},
   "outputs": [],
   "source": [
    "def PairSum(nums):\n",
    "    nums.sort()\n",
    "    max_sum = 0\n",
    "    for i in range(0, len(nums), 2):\n",
    "        max_sum += nums[i]\n",
    "    return max_sum\n"
   ]
  },
  {
   "cell_type": "code",
   "execution_count": 24,
   "id": "35ee0849",
   "metadata": {},
   "outputs": [
    {
     "name": "stdout",
     "output_type": "stream",
     "text": [
      "4\n"
     ]
    }
   ],
   "source": [
    "nums = [1, 4, 3, 2]\n",
    "max_sum = PairSum(nums)\n",
    "print(max_sum)\n"
   ]
  },
  {
   "cell_type": "markdown",
   "id": "ddf17987",
   "metadata": {},
   "source": [
    "Sort the nums array in ascending order.\n",
    "\n",
    "Initialize a variable max_sum to 0. This will store the maximum sum of minimum values.\n",
    "\n",
    "Iterate through the sorted array, considering every second element starting from index 0. In each iteration, do the following:\n",
    "\n",
    "Add the smaller element of the pair to max_sum.\n",
    "Return max_sum."
   ]
  },
  {
   "cell_type": "markdown",
   "id": "0c9b89be",
   "metadata": {},
   "source": [
    " O(n log n)time complexity,\n",
    " O(1)space complexity"
   ]
  },
  {
   "cell_type": "markdown",
   "id": "612d099b",
   "metadata": {},
   "source": [
    "\n",
    "💡 **Question 5**\n",
    "You have n coins and you want to build a staircase with these coins. The staircase consists of k rows where the ith row has exactly i coins. The last row of the staircase **may be** incomplete.\n",
    "\n",
    "Given the integer n, return *the number of **complete rows** of the staircase you will build*.\n",
    "\n",
    "**Example 1:**\n",
    "\n",
    "[]()\n",
    "\n",
    "![v2.jpg](https://s3-us-west-2.amazonaws.com/secure.notion-static.com/4bd91cfa-d2b1-47b3-8197-a72e8dcfff4b/v2.jpg)\n",
    "\n",
    "**Input:** n = 5\n",
    "\n",
    "**Output:** 2\n",
    "\n",
    "**Explanation:** Because the 3rd row is incomplete, we return 2.\n"
   ]
  },
  {
   "cell_type": "code",
   "execution_count": 25,
   "id": "7e978a63",
   "metadata": {},
   "outputs": [],
   "source": [
    "def arrangeCoins(n):\n",
    "    left = 1\n",
    "    right = n\n",
    "\n",
    "    while left <= right:\n",
    "        mid = left + (right - left) // 2\n",
    "        sum_mid = (mid * (mid + 1)) // 2\n",
    "\n",
    "        if sum_mid <= n:\n",
    "            left = mid + 1\n",
    "        else:\n",
    "            right = mid - 1\n",
    "\n",
    "    return right\n"
   ]
  },
  {
   "cell_type": "code",
   "execution_count": 26,
   "id": "5b4e643a",
   "metadata": {},
   "outputs": [
    {
     "name": "stdout",
     "output_type": "stream",
     "text": [
      "2\n"
     ]
    }
   ],
   "source": [
    "n = 5\n",
    "complete_rows = arrangeCoins(n)\n",
    "print(complete_rows)\n"
   ]
  },
  {
   "cell_type": "markdown",
   "id": "9b278fff",
   "metadata": {},
   "source": [
    "Initialize two pointers, left and right, to 1 and n, respectively. These pointers define the range of possible values for k.\n",
    "\n",
    "While left is less than or equal to right, do the following:\n",
    "\n",
    "Calculate the midpoint as mid = left + (right - left) // 2.\n",
    "\n",
    "Calculate the sum of the arithmetic series from 1 to mid as sum_mid = (mid * (mid + 1)) // 2.\n",
    "\n",
    "If sum_mid is less than or equal to n, update left = mid + 1 to search for a larger value of k.\n",
    "\n",
    "Otherwise, update right = mid - 1 to search for a smaller value of k.\n",
    "\n",
    "After the binary search, right will hold the largest value of k such that the sum of the arithmetic series from 1 to k is less than or equal to n.\n",
    "\n",
    "Return right as the number of complete rows in the staircase.\n",
    "\n"
   ]
  },
  {
   "cell_type": "markdown",
   "id": "55fcb230",
   "metadata": {},
   "source": [
    "O(log n)time complexity,\n",
    "O(1)space complexity"
   ]
  },
  {
   "cell_type": "markdown",
   "id": "52f14ee0",
   "metadata": {},
   "source": [
    "\n",
    "💡 **Question 6**\n",
    "Given an integer array nums sorted in **non-decreasing** order, return *an array of **the squares of each number** sorted in non-decreasing order*.\n",
    "\n",
    "**Example 1:**\n",
    "\n",
    "Input: nums = [-4,-1,0,3,10]\n",
    "\n",
    "Output: [0,1,9,16,100]\n",
    "\n",
    "**Explanation:** After squaring, the array becomes [16,1,0,9,100].\n",
    "After sorting, it becomes [0,1,9,16,100]\n"
   ]
  },
  {
   "cell_type": "code",
   "execution_count": 27,
   "id": "09c5c591",
   "metadata": {},
   "outputs": [],
   "source": [
    "def sortedSquares(nums):\n",
    "    left = 0\n",
    "    right = len(nums) - 1\n",
    "    result = []\n",
    "\n",
    "    while left <= right:\n",
    "        if abs(nums[left]) >= abs(nums[right]):\n",
    "            result.append(nums[left] ** 2)\n",
    "            left += 1\n",
    "        else:\n",
    "            result.append(nums[right] ** 2)\n",
    "            right -= 1\n",
    "\n",
    "    return result[::-1]\n"
   ]
  },
  {
   "cell_type": "code",
   "execution_count": 28,
   "id": "18992998",
   "metadata": {},
   "outputs": [
    {
     "name": "stdout",
     "output_type": "stream",
     "text": [
      "[0, 1, 9, 16, 100]\n"
     ]
    }
   ],
   "source": [
    "nums = [-4, -1, 0, 3, 10]\n",
    "squared_nums = sortedSquares(nums)\n",
    "print(squared_nums)\n"
   ]
  },
  {
   "cell_type": "markdown",
   "id": "4190d9fe",
   "metadata": {},
   "source": [
    "Initialize two pointers, left and right, to the start and end of the nums array, respectively.\n",
    "\n",
    "Create an empty result array to store the squares in non-decreasing order.\n",
    "\n",
    "While left is less than or equal to right, do the following:\n",
    "\n",
    "Compare the absolute values of nums[left] and nums[right].\n",
    "\n",
    "If the absolute value of nums[left] is greater than or equal to the absolute value of nums[right], square nums[left] and append it to the result array. Then, move left one step to the right.\n",
    "\n",
    "If the absolute value of nums[left] is less than the absolute value of nums[right], square nums[right] and append it to the result array. Then, move right one step to the left.\n",
    "\n",
    "Reverse the result array to obtain the squares in non-decreasing order.\n",
    "\n",
    "Return the result array.\n",
    "\n"
   ]
  },
  {
   "cell_type": "markdown",
   "id": "a1dd18c1",
   "metadata": {},
   "source": [
    " O(n)time complexity,space complexity"
   ]
  },
  {
   "cell_type": "markdown",
   "id": "5916e25c",
   "metadata": {},
   "source": [
    "\n",
    "💡 **Question 7**\n",
    "You are given an m x n matrix M initialized with all 0's and an array of operations ops, where ops[i] = [ai, bi] means M[x][y] should be incremented by one for all 0 <= x < ai and 0 <= y < bi.\n",
    "\n",
    "Count and return *the number of maximum integers in the matrix after performing all the operations*\n",
    "\n",
    "**Example 1:**\n",
    "\n",
    "![q4.jpg](https://s3-us-west-2.amazonaws.com/secure.notion-static.com/4d0890d0-7bc7-4f59-be8e-352d9f3c1c52/q4.jpg)\n",
    "\n",
    "**Input:** m = 3, n = 3, ops = [[2,2],[3,3]]\n",
    "\n",
    "**Output:** 4\n",
    "\n",
    "**Explanation:** The maximum integer in M is 2, and there are four of it in M. So return 4."
   ]
  },
  {
   "cell_type": "code",
   "execution_count": 29,
   "id": "949d6637",
   "metadata": {},
   "outputs": [],
   "source": [
    "def maxCount(m, n, ops):\n",
    "    min_a = m\n",
    "    min_b = n\n",
    "\n",
    "    for op in ops:\n",
    "        min_a = min(min_a, op[0])\n",
    "        min_b = min(min_b, op[1])\n",
    "\n",
    "    return min_a * min_b\n"
   ]
  },
  {
   "cell_type": "code",
   "execution_count": 30,
   "id": "007db7d3",
   "metadata": {},
   "outputs": [
    {
     "name": "stdout",
     "output_type": "stream",
     "text": [
      "4\n"
     ]
    }
   ],
   "source": [
    "m = 3\n",
    "n = 3\n",
    "ops = [[2, 2], [3, 3]]\n",
    "max_integers = maxCount(m, n, ops)\n",
    "print(max_integers)\n"
   ]
  },
  {
   "cell_type": "markdown",
   "id": "d816b002",
   "metadata": {},
   "source": [
    "Initialize min_a and min_b to m and n, respectively. These variables will track the minimum values of ai and bi in the ops array.\n",
    "\n",
    "Iterate through each operation [ai, bi] in the ops array.\n",
    "\n",
    "Update min_a as the minimum of min_a and ai.\n",
    "Update min_b as the minimum of min_b and bi.\n",
    "Return min_a * min_b as the number of maximum integers in the resulting matrix."
   ]
  },
  {
   "cell_type": "markdown",
   "id": "b9f097be",
   "metadata": {},
   "source": [
    "\n",
    "💡 **Question 8**\n",
    "\n",
    "Given the array nums consisting of 2n elements in the form [x1,x2,...,xn,y1,y2,...,yn].\n",
    "\n",
    "*Return the array in the form* [x1,y1,x2,y2,...,xn,yn].\n",
    "\n",
    "**Example 1:**\n",
    "\n",
    "**Input:** nums = [2,5,1,3,4,7], n = 3\n",
    "\n",
    "**Output:** [2,3,5,4,1,7]\n",
    "\n",
    "**Explanation:** Since x1=2, x2=5, x3=1, y1=3, y2=4, y3=7 then the answer is [2,3,5,4,1,7]."
   ]
  },
  {
   "cell_type": "code",
   "execution_count": 31,
   "id": "3e7b2be2",
   "metadata": {},
   "outputs": [],
   "source": [
    "def shuffle(nums, n):\n",
    "    result = []\n",
    "    for i in range(n):\n",
    "        result.append(nums[i])\n",
    "        result.append(nums[i+n])\n",
    "    return result\n"
   ]
  },
  {
   "cell_type": "code",
   "execution_count": 32,
   "id": "20ec356a",
   "metadata": {},
   "outputs": [
    {
     "name": "stdout",
     "output_type": "stream",
     "text": [
      "[2, 3, 5, 4, 1, 7]\n"
     ]
    }
   ],
   "source": [
    "nums = [2, 5, 1, 3, 4, 7]\n",
    "n = 3\n",
    "shuffled_nums = shuffle(nums, n)\n",
    "print(shuffled_nums)\n"
   ]
  },
  {
   "cell_type": "markdown",
   "id": "363466a5",
   "metadata": {},
   "source": [
    "Initialize an empty result array to store the rearranged elements.\n",
    "\n",
    "Iterate from i = 0 to n-1, inclusive:\n",
    "\n",
    "Append nums[i] to the result array.\n",
    "Append nums[i+n] to the result array.\n",
    "Return the result array"
   ]
  },
  {
   "cell_type": "markdown",
   "id": "179b8f62",
   "metadata": {},
   "source": [
    "O(n)time complexity,space complexity"
   ]
  },
  {
   "cell_type": "code",
   "execution_count": null,
   "id": "61feff4f",
   "metadata": {},
   "outputs": [],
   "source": []
  }
 ],
 "metadata": {
  "kernelspec": {
   "display_name": "Python 3 (ipykernel)",
   "language": "python",
   "name": "python3"
  },
  "language_info": {
   "codemirror_mode": {
    "name": "ipython",
    "version": 3
   },
   "file_extension": ".py",
   "mimetype": "text/x-python",
   "name": "python",
   "nbconvert_exporter": "python",
   "pygments_lexer": "ipython3",
   "version": "3.9.12"
  }
 },
 "nbformat": 4,
 "nbformat_minor": 5
}
