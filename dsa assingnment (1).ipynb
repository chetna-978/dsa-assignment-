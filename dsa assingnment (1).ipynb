{
 "cells": [
  {
   "cell_type": "markdown",
   "id": "b9ddcec7",
   "metadata": {},
   "source": [
    "## DSA Assignment 1"
   ]
  },
  {
   "cell_type": "markdown",
   "id": "a71f062e",
   "metadata": {},
   "source": [
    "💡 **Q1.** Given an array of integers nums and an integer target, return indices of the two numbers such that they add up to target.\n",
    "\n",
    "You may assume that each input would have exactly one solution, and you may not use the same element twice.\n",
    "\n",
    "You can return the answer in any order.\n",
    "\n",
    "**Example:**\n",
    "Input: nums = [2,7,11,15], target = 9\n",
    "Output0 [0,1]\n",
    "\n",
    "**Explanation:** Because nums[0] + nums[1] == 9, we return [0, 1]["
   ]
  },
  {
   "cell_type": "markdown",
   "id": "d6c9fca6",
   "metadata": {},
   "source": [
    "The code iterates through the input array nums using enumerate to access both the numbers and their corresponding indices. For each number, it calculates the complement (the difference between the target and the current number).\n",
    "\n",
    "If the complement is already present in the num_dict, it means that we have found the pair of numbers that adds up to the target. In that case, we return the indices of the complement and the current number.\n",
    "\n",
    "If no solution is found after iterating through the entire array, we return None or an empty list to indicate that no valid pair was found."
   ]
  },
  {
   "cell_type": "code",
   "execution_count": 1,
   "id": "ea93587f",
   "metadata": {},
   "outputs": [],
   "source": [
    "def twoSum(nums, target):\n",
    "    num_dict = {}  # Dictionary to store numbers and their indices\n",
    "\n",
    "    for i, num in enumerate(nums):\n",
    "        complement = target - num\n",
    "        if complement in num_dict:\n",
    "            return [num_dict[complement], i]\n",
    "        num_dict[num] = i\n",
    "\n",
    "    return None  # If no solution is found, return None or an empty list\n",
    "\n"
   ]
  },
  {
   "cell_type": "code",
   "execution_count": 2,
   "id": "3703dd02",
   "metadata": {},
   "outputs": [
    {
     "name": "stdout",
     "output_type": "stream",
     "text": [
      "[0, 1]\n"
     ]
    }
   ],
   "source": [
    "nums = [2, 7, 11, 15]\n",
    "target = 9\n",
    "result = twoSum(nums, target)\n",
    "print(result)\n"
   ]
  },
  {
   "cell_type": "markdown",
   "id": "f5c9a486",
   "metadata": {},
   "source": [
    "The code starts by initializing a hash set num_set to track the unique numbers encountered in the nums array. It also initializes a variable duplicate as -1 to store the number that occurs twice.\n",
    "\n",
    "As you iterate through the nums array, for each number, you check if it is already present in the num_set. If it is, it means that the number occurs twice, so you assign it to the duplicate variable. Otherwise, you add the number to the num_set.\n",
    "\n",
    "After the iteration completes, you can find the missing number by subtracting the set of unique numbers in num_set from the set of all numbers from 1 to n using set difference operation (-).\n",
    "\n",
    "Finally, you return the duplicate number and the popped element from the missing set as the output array"
   ]
  },
  {
   "cell_type": "markdown",
   "id": "6e87e11c",
   "metadata": {},
   "source": [
    "O(n) time comlexity"
   ]
  },
  {
   "cell_type": "markdown",
   "id": "b629f920",
   "metadata": {},
   "source": [
    "Brute force approach"
   ]
  },
  {
   "cell_type": "code",
   "execution_count": 1,
   "id": "a03f6a5a",
   "metadata": {},
   "outputs": [],
   "source": [
    "def twoSum(nums, target):\n",
    "    for i in range(len(nums)):\n",
    "        for j in range(i + 1, len(nums)):\n",
    "            if nums[i] + nums[j] == target:\n",
    "                return [i, j]"
   ]
  },
  {
   "cell_type": "code",
   "execution_count": 2,
   "id": "0f1fbdec",
   "metadata": {},
   "outputs": [
    {
     "name": "stdout",
     "output_type": "stream",
     "text": [
      "[0, 1]\n"
     ]
    }
   ],
   "source": [
    "nums = [2, 7, 11, 15]\n",
    "target = 9\n",
    "result = twoSum(nums, target)\n",
    "print(result) \n"
   ]
  },
  {
   "cell_type": "markdown",
   "id": "7afb7c51",
   "metadata": {},
   "source": [
    "O(n^2) time complexity\n"
   ]
  },
  {
   "cell_type": "markdown",
   "id": "771506ca",
   "metadata": {},
   "source": [
    "💡 **Q2.** Given an integer array nums and an integer val, remove all occurrences of val in nums in-place. The order of the elements may be changed. Then return the number of elements in nums which are not equal to val.\n",
    "\n",
    "Consider the number of elements in nums which are not equal to val be k, to get accepted, you need to do the following things:\n",
    "\n",
    "- Change the array nums such that the first k elements of nums contain the elements which are not equal to val. The remaining elements of nums are not important as well as the size of nums.\n",
    "- Return k.\n",
    "\n",
    "**Example :**\n",
    "Input: nums = [3,2,2,3], val = 3\n",
    "Output: 2, nums = [2,2,_*,_*]\n",
    "\n",
    "**Explanation:** Your function should return k = 2, with the first two elements of nums being 2. It does not matter what you leave beyond the returned k (hence they are underscores)"
   ]
  },
  {
   "cell_type": "code",
   "execution_count": 4,
   "id": "8f943812",
   "metadata": {},
   "outputs": [],
   "source": [
    "def removeElement(nums, val):\n",
    "    left = 0  # Left pointer\n",
    "    right = len(nums) - 1  # Right pointer\n",
    "\n",
    "    while left <= right:\n",
    "        if nums[left] == val:\n",
    "            nums[left] = nums[right]\n",
    "            right -= 1\n",
    "        else:\n",
    "            left += 1\n",
    "\n",
    "    return left"
   ]
  },
  {
   "cell_type": "code",
   "execution_count": 5,
   "id": "a9851393",
   "metadata": {},
   "outputs": [
    {
     "name": "stdout",
     "output_type": "stream",
     "text": [
      "2\n",
      "[2, 2, 2, 3]\n"
     ]
    }
   ],
   "source": [
    "nums = [3, 2, 2, 3]\n",
    "val = 3\n",
    "k = removeElement(nums, val)\n",
    "print(k) \n",
    "print(nums)  \n"
   ]
  },
  {
   "cell_type": "markdown",
   "id": "1b717db9",
   "metadata": {},
   "source": [
    "O(n) time complexity,\n",
    " O(1)  space complexity"
   ]
  },
  {
   "cell_type": "markdown",
   "id": "5e71051c",
   "metadata": {},
   "source": [
    "💡 **Q3.** Given a sorted array of distinct integers and a target value, return the index if the target is found. If not, return the index where it would be if it were inserted in order.\n",
    "\n",
    "You must write an algorithm with O(log n) runtime complexity.\n",
    "\n",
    "**Example 1:**\n",
    "Input: nums = [1,3,5,6], target = 5\n",
    "\n",
    "Output: 2"
   ]
  },
  {
   "cell_type": "code",
   "execution_count": 6,
   "id": "b627bd6b",
   "metadata": {},
   "outputs": [],
   "source": [
    "def searchInsert(nums, target):\n",
    "    left = 0\n",
    "    right = len(nums) - 1\n",
    "\n",
    "    while left <= right:\n",
    "        mid = (left + right) // 2\n",
    "\n",
    "        if nums[mid] == target:\n",
    "            return mid\n",
    "        elif nums[mid] < target:\n",
    "            left = mid + 1\n",
    "        else:\n",
    "            right = mid - 1\n",
    "\n",
    "    return left"
   ]
  },
  {
   "cell_type": "code",
   "execution_count": 7,
   "id": "1cc8ce67",
   "metadata": {},
   "outputs": [
    {
     "name": "stdout",
     "output_type": "stream",
     "text": [
      "2\n"
     ]
    }
   ],
   "source": [
    "nums = [1, 3, 5, 6]\n",
    "target = 5\n",
    "index = searchInsert(nums, target)\n",
    "print(index)  \n"
   ]
  },
  {
   "cell_type": "markdown",
   "id": "8ef2e5c1",
   "metadata": {},
   "source": [
    " O(log n) time complexity,\n",
    "O(1) space complexity"
   ]
  },
  {
   "cell_type": "markdown",
   "id": "42b01393",
   "metadata": {},
   "source": [
    "The code initializes two pointers, left and right, representing the start and end indices of the subarray being searched. In each iteration of the while loop, it calculates the middle index mid using integer division.\n",
    "\n",
    "If the value at nums[mid] is equal to the target, we return the value of mid.\n",
    "\n",
    "If the value at nums[mid] is less than the target, we update left to mid + 1 to search in the right half of the subarray.\n",
    "\n",
    "If the value at nums[mid] is greater than the target, we update right to mid - 1 to search in the left half of the subarray.\n",
    "\n",
    "This process continues until the target value is found or the pointers cross each other.\n",
    "\n",
    "If the target value is not found, we return the value of left, which represents the index where the target would be inserted to maintain the sorted order of the array."
   ]
  },
  {
   "cell_type": "markdown",
   "id": "7184c478",
   "metadata": {},
   "source": [
    "💡 **Q4.** You are given a large integer represented as an integer array digits, where each digits[i] is the ith digit of the integer. The digits are ordered from most significant to least significant in left-to-right order. The large integer does not contain any leading 0's.\n",
    "\n",
    "Increment the large integer by one and return the resulting array of digits.\n",
    "\n",
    "**Example 1:**\n",
    "Input: digits = [1,2,3]\n",
    "Output: [1,2,4]\n",
    "\n",
    "**Explanation:** The array represents the integer 123.\n",
    "\n",
    "Incrementing by one gives 123 + 1 = 124.\n",
    "Thus, the result should be [1,2,4]."
   ]
  },
  {
   "cell_type": "code",
   "execution_count": 8,
   "id": "c100bdf4",
   "metadata": {},
   "outputs": [],
   "source": [
    "def plusOne(digits):\n",
    "    carry = 1  # Initialize carry-over value as 1\n",
    "\n",
    "    for i in range(len(digits) - 1, -1, -1):\n",
    "        sum = digits[i] + carry\n",
    "        digits[i] = sum % 10  # Update the digit value\n",
    "        carry = sum // 10  # Calculate the carry-over\n",
    "\n",
    "    if carry > 0:\n",
    "        digits.insert(0, carry)  # Insert carry-over as the most significant digit\n",
    "\n",
    "    return digits\n"
   ]
  },
  {
   "cell_type": "code",
   "execution_count": 9,
   "id": "e741d2cd",
   "metadata": {},
   "outputs": [
    {
     "name": "stdout",
     "output_type": "stream",
     "text": [
      "[1, 2, 4]\n"
     ]
    }
   ],
   "source": [
    "digits = [1, 2, 3]\n",
    "result = plusOne(digits)\n",
    "print(result)  \n"
   ]
  },
  {
   "cell_type": "markdown",
   "id": "486f8cdc",
   "metadata": {},
   "source": [
    "O(n) time complexity ,\n",
    "O(1)space complexity"
   ]
  },
  {
   "cell_type": "markdown",
   "id": "64fe1a5c",
   "metadata": {},
   "source": [
    "The code starts by initializing the carry-over value as 1. It then iterates through the digits array from right to left using a reverse range.\n",
    "\n",
    "In each iteration, it adds the current digit with the carry-over value. The result is stored in the digit at index i after taking the modulo 10 operation to keep it within the range of 0 to 9. This operation updates the digit value.\n",
    "\n",
    "The carry-over value is then calculated by dividing the sum by 10 using integer division. This value will be carried over to the next iteration.\n",
    "\n",
    "After the iteration completes, if there is a non-zero carry-over value, it means that the most significant digit needs to be updated. In that case, we insert the carry-over value at the beginning of the digits array."
   ]
  },
  {
   "cell_type": "markdown",
   "id": "57f769ff",
   "metadata": {},
   "source": [
    "💡 **Q5.** You are given two integer arrays nums1 and nums2, sorted in non-decreasing order, and two integers m and n, representing the number of elements in nums1 and nums2 respectively.\n",
    "\n",
    "Merge nums1 and nums2 into a single array sorted in non-decreasing order.\n",
    "\n",
    "The final sorted array should not be returned by the function, but instead be stored inside the array nums1. To accommodate this, nums1 has a length of m + n, where the first m elements denote the elements that should be merged, and the last n elements are set to 0 and should be ignored. nums2 has a length of n.\n",
    "\n",
    "**Example 1:**\n",
    "Input: nums1 = [1,2,3,0,0,0], m = 3, nums2 = [2,5,6], n = 3\n",
    "Output: [1,2,2,3,5,6]\n",
    "\n",
    "**Explanation:** The arrays we are merging are [1,2,3] and [2,5,6].\n",
    "The result of the merge is [1,2,2,3,5,6] with the underlined elements coming from nums1."
   ]
  },
  {
   "cell_type": "code",
   "execution_count": 2,
   "id": "da0f6a51",
   "metadata": {},
   "outputs": [],
   "source": [
    "def merge(nums1, m, nums2, n):\n",
    "    \n",
    "        nums1Copy = nums1[:m]\n",
    "        p1, p2 = 0, 0\n",
    "        p = 0\n",
    " \n",
    "        while p < m + n:\n",
    "            if p2 >= n or (p1 < m and nums1Copy[p1] < nums2[p2]):\n",
    "                nums1[p] = nums1Copy[p1]\n",
    "                p1 += 1\n",
    "            else:\n",
    "                nums1[p] = nums2[p2]\n",
    "                p2 += 1\n",
    "            p += 1"
   ]
  },
  {
   "cell_type": "code",
   "execution_count": 3,
   "id": "9736deca",
   "metadata": {},
   "outputs": [
    {
     "name": "stdout",
     "output_type": "stream",
     "text": [
      "[1, 2, 2, 3, 5, 6]\n"
     ]
    }
   ],
   "source": [
    "nums1 = [1, 2, 3, 0, 0, 0]\n",
    "m = 3\n",
    "nums2 = [2, 5, 6]\n",
    "n = 3\n",
    "merge(nums1, m, nums2, n)\n",
    "print(nums1)"
   ]
  },
  {
   "cell_type": "markdown",
   "id": "e2871fbf",
   "metadata": {},
   "source": [
    "time complexity of O(m + n)"
   ]
  },
  {
   "cell_type": "markdown",
   "id": "ea61cc73",
   "metadata": {},
   "source": [
    "💡 **Q6.** Given an integer array nums, return true if any value appears at least twice in the array, and return false if every element is distinct.\n",
    "\n",
    "**Example 1:**\n",
    "Input: nums = [1,2,3,1]\n",
    "\n",
    "Output: true"
   ]
  },
  {
   "cell_type": "code",
   "execution_count": 11,
   "id": "7ecbd79a",
   "metadata": {},
   "outputs": [],
   "source": [
    "def containsDuplicate(nums):\n",
    "    num_set = set()\n",
    "\n",
    "    for num in nums:\n",
    "        if num in num_set:\n",
    "            return True\n",
    "        num_set.add(num)\n",
    "\n",
    "    return False"
   ]
  },
  {
   "cell_type": "code",
   "execution_count": 12,
   "id": "de27786f",
   "metadata": {},
   "outputs": [
    {
     "name": "stdout",
     "output_type": "stream",
     "text": [
      "True\n"
     ]
    }
   ],
   "source": [
    "nums = [1, 2, 3, 1]\n",
    "result = containsDuplicate(nums)\n",
    "print(result) "
   ]
  },
  {
   "cell_type": "markdown",
   "id": "80187500",
   "metadata": {},
   "source": [
    "O(n) time complexity,\n",
    "O(n) space complexity"
   ]
  },
  {
   "cell_type": "markdown",
   "id": "a3a20aef",
   "metadata": {},
   "source": [
    "The code initializes an empty hash set num_set. As you iterate through the nums array, for each number, you check if it is already present in the num_set. If it is, it means that the number has appeared at least twice, so you return True. Otherwise, you add the number to the num_set.\n",
    "\n",
    "If the iteration completes without finding any duplicate elements, you return False."
   ]
  },
  {
   "cell_type": "markdown",
   "id": "7b34018b",
   "metadata": {},
   "source": [
    "💡 **Q7.** Given an integer array nums, move all 0's to the end of it while maintaining the relative order of the nonzero elements.\n",
    "\n",
    "Note that you must do this in-place without making a copy of the array.\n",
    "\n",
    "**Example 1:**\n",
    "Input: nums = [0,1,0,3,12]\n",
    "Output: [1,3,12,0,0]"
   ]
  },
  {
   "cell_type": "code",
   "execution_count": 13,
   "id": "6b54934f",
   "metadata": {},
   "outputs": [],
   "source": [
    "def moveZeroes(nums):\n",
    "    left = 0  # Left pointer\n",
    "\n",
    "    for right in range(len(nums)):\n",
    "        if nums[right] != 0:\n",
    "            # Swap the current element with the element at the left pointer\n",
    "            nums[left], nums[right] = nums[right], nums[left]\n",
    "            left += 1"
   ]
  },
  {
   "cell_type": "code",
   "execution_count": 14,
   "id": "9ccdb1cc",
   "metadata": {},
   "outputs": [
    {
     "name": "stdout",
     "output_type": "stream",
     "text": [
      "[1, 3, 12, 0, 0]\n"
     ]
    }
   ],
   "source": [
    "nums = [0, 1, 0, 3, 12]\n",
    "moveZeroes(nums)\n",
    "print(nums)  "
   ]
  },
  {
   "cell_type": "markdown",
   "id": "1b3d6cd8",
   "metadata": {},
   "source": [
    " O(n) time complexity ,\n",
    " O(1) space complexity"
   ]
  },
  {
   "cell_type": "markdown",
   "id": "74636490",
   "metadata": {},
   "source": [
    "The code initializes two pointers, left and right. The left pointer keeps track of the position where the next non-zero element should be placed.\n",
    "\n",
    "In each iteration of the right pointer, if the current element is non-zero, it swaps the current element with the element at the left pointer and increments the left pointer.\n",
    "\n",
    "By doing so, all non-zero elements will be placed towards the left side of the array, while the zeros will naturally move towards the end."
   ]
  },
  {
   "cell_type": "markdown",
   "id": "79e3c924",
   "metadata": {},
   "source": [
    "💡 **Q8.** You have a set of integers s, which originally contains all the numbers from 1 to n. Unfortunately, due to some error, one of the numbers in s got duplicated to another number in the set, which results in repetition of one number and loss of another number.\n",
    "\n",
    "You are given an integer array nums representing the data status of this set after the error.\n",
    "\n",
    "Find the number that occurs twice and the number that is missing and return them in the form of an array.\n",
    "\n",
    "**Example 1:**\n",
    "Input: nums = [1,2,2,4]\n",
    "Output: [2,3]"
   ]
  },
  {
   "cell_type": "code",
   "execution_count": 15,
   "id": "40e63d23",
   "metadata": {},
   "outputs": [],
   "source": [
    "def findErrorNums(nums):\n",
    "    n = len(nums)\n",
    "    num_set = set()\n",
    "    duplicate = -1\n",
    "\n",
    "    for num in nums:\n",
    "        if num in num_set:\n",
    "            duplicate = num\n",
    "        num_set.add(num)\n",
    "\n",
    "    missing = set(range(1, n+1)) - num_set\n",
    "\n",
    "    return [duplicate, missing.pop()]\n"
   ]
  },
  {
   "cell_type": "code",
   "execution_count": 16,
   "id": "054f3aad",
   "metadata": {},
   "outputs": [
    {
     "name": "stdout",
     "output_type": "stream",
     "text": [
      "[2, 3]\n"
     ]
    }
   ],
   "source": [
    "nums = [1, 2, 2, 4]\n",
    "result = findErrorNums(nums)\n",
    "print(result)  \n"
   ]
  },
  {
   "cell_type": "markdown",
   "id": "31c90c93",
   "metadata": {},
   "source": [
    "O(n)time complexity,\n",
    "O(n)space complexity"
   ]
  },
  {
   "cell_type": "markdown",
   "id": "0477e041",
   "metadata": {},
   "source": [
    "The code starts by initializing a hash set num_set to track the unique numbers encountered in the nums array. It also initializes a variable duplicate as -1 to store the number that occurs twice.\n",
    "\n",
    "As you iterate through the nums array, for each number, you check if it is already present in the num_set. If it is, it means that the number occurs twice, so you assign it to the duplicate variable. Otherwise, you add the number to the num_set.\n",
    "\n",
    "After the iteration completes, you can find the missing number by subtracting the set of unique numbers in num_set from the set of all numbers from 1 to n using set difference operation (-).\n",
    "\n",
    "Finally, you return the duplicate number and the popped element from the missing set as the output array."
   ]
  }
 ],
 "metadata": {
  "kernelspec": {
   "display_name": "Python 3 (ipykernel)",
   "language": "python",
   "name": "python3"
  },
  "language_info": {
   "codemirror_mode": {
    "name": "ipython",
    "version": 3
   },
   "file_extension": ".py",
   "mimetype": "text/x-python",
   "name": "python",
   "nbconvert_exporter": "python",
   "pygments_lexer": "ipython3",
   "version": "3.9.12"
  }
 },
 "nbformat": 4,
 "nbformat_minor": 5
}
